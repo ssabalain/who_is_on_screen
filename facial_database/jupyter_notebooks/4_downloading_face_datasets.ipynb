{
 "cells": [
  {
   "cell_type": "code",
   "execution_count": null,
   "id": "c3e3c23f",
   "metadata": {},
   "outputs": [],
   "source": [
    "import os\n",
    "import sys\n",
    "!{sys.executable} -m pip install pandas\n",
    "import pandas as pd\n",
    "sys.path.append('/opt/workspace/facial_database/python_scripts/')\n",
    "import ops_database_operations as db\n",
    "import ops_download_images as di"
   ]
  },
  {
   "cell_type": "code",
   "execution_count": null,
   "id": "e5856029",
   "metadata": {},
   "outputs": [],
   "source": [
    "def create_facial_dataset(movies, actors_per_movie, sql_dict, dataset_folder, images_by_actor):\n",
    "    sql_user = sql_dict['user']\n",
    "    sql_pwd = sql_dict['pwd']\n",
    "    db_name = sql_dict['database']\n",
    "    movies_string = \"'\" + \"','\".join(movies) + \"'\"\n",
    "    query = f\"\"\"\n",
    "        with base as (\n",
    "            select \n",
    "                m.original_title,\n",
    "                a.actor_id, \n",
    "                a.name,\n",
    "                axm.character,\n",
    "                axm.order as movie_order,\n",
    "                row_number() over(partition by m.original_title order by axm.order) as limit_rank\n",
    "            from actors_by_movie as axm\n",
    "            join actors as a on axm.actor_id = a.actor_id\n",
    "            join movies as m on axm.movie_id = m.movie_id\n",
    "            where original_title in ({movies_string})\n",
    "                and axm.character not like '%uncredited%'\n",
    "                and axm.character not like '%(voice)%'\n",
    "                and a.popularity > 3\n",
    "        )\n",
    "        \n",
    "        select * from base where limit_rank <= {actors_per_movie} order by movie_order\n",
    "        \"\"\"\n",
    "    actors_array = db.return_array_from_query(sql_user,sql_pwd,db_name,query)\n",
    "    \n",
    "    for actor in actors_array:\n",
    "        actor_folder_name = str(actor['actor_id']) + '_' + formatted_actor_name\n",
    "        actor_full_path = os.path.join(dataset_folder,actor_folder_name)\n",
    "        actor_name = actor['name'].replace(' ','_').lower()\n",
    "        actor_search_query = actor['name'] + ' face'\n",
    "        actor_movie_name = formatted_actor_name + \"_\" + actor['original_title'].replace(' ','_').lower()\n",
    "        actor_movie_search_query = actor['name'] + ' face ' + actor['original_title']\n",
    "        \n",
    "        if not os.path.isdir(actor_full_path):\n",
    "            di.get_images_on_folder(actor_full_path, actor_search_query,actor_name, images_by_actor)\n",
    "            di.get_images_on_folder(actor_full_path, actor_movie_search_query, actor_movie_name, 3)\n",
    "            \n",
    "        else:\n",
    "            di.get_images_on_folder(actor_full_path, actor_movie_search_query, actor_movie_name, 3)"
   ]
  },
  {
   "cell_type": "code",
   "execution_count": null,
   "id": "6f4f3489",
   "metadata": {},
   "outputs": [],
   "source": [
    "sql_data = {'user':'WIOS_User','pwd':'Whoisonscreen!','database':'christopher_nolan'}\n",
    "movies = ['Inception']\n",
    "actors_per_movie = 15\n",
    "images_by_actor = 10\n",
    "dataset_folder = '/opt/workspace/facial_database/datasets/actor_faces/'\n",
    "create_facial_dataset(movies,actors_per_movie,sql_data,dataset_folder, images_by_actor)"
   ]
  }
 ],
 "metadata": {
  "kernelspec": {
   "display_name": "Python 3.9.10 64-bit",
   "language": "python",
   "name": "python3"
  },
  "language_info": {
   "codemirror_mode": {
    "name": "ipython",
    "version": 3
   },
   "file_extension": ".py",
   "mimetype": "text/x-python",
   "name": "python",
   "nbconvert_exporter": "python",
   "pygments_lexer": "ipython3",
   "version": "3.9.10"
  },
  "vscode": {
   "interpreter": {
    "hash": "b0fa6594d8f4cbf19f97940f81e996739fb7646882a419484c72d19e05852a7e"
   }
  }
 },
 "nbformat": 4,
 "nbformat_minor": 5
}
