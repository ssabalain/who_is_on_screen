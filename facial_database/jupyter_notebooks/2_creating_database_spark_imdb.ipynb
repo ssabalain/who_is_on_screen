{
 "cells": [
  {
   "cell_type": "code",
   "execution_count": null,
   "id": "732c8765",
   "metadata": {},
   "outputs": [],
   "source": [
    "from pyspark import SparkConf, SparkContext\n",
    "from pyspark.sql import SparkSession\n",
    "from pyspark.sql import functions as F\n",
    "from pyspark.sql.functions import *"
   ]
  },
  {
   "cell_type": "code",
   "execution_count": null,
   "id": "dd73e2df",
   "metadata": {},
   "outputs": [],
   "source": [
    "import os\n",
    "import json\n",
    "import sys\n",
    "sys.path.append('/opt/workspace/facial_database/python_scripts/')\n",
    "import database_operations as db"
   ]
  },
  {
   "cell_type": "code",
   "execution_count": null,
   "id": "63ccdc51",
   "metadata": {},
   "outputs": [],
   "source": [
    "master = \"spark://spark-master:7077\"\n",
    "app_name = \"Getting list of actors\"\n",
    "spark = (\n",
    "    SparkSession.builder\n",
    "    .appName(app_name)\n",
    "    .master(master)\n",
    "    .config(\"spark.driver.memory\", \"512m\")\n",
    "    .config(\"spark.driver.cores\", \"1\")\n",
    "    .config(\"spark.executor.memory\", \"512m\")\n",
    "    .config(\"spark.executor.cores\", \"1\")\n",
    "    .config(\"spark.sql.shuffle.partitions\", \"2\")\n",
    "    .getOrCreate()\n",
    ")\n",
    "sc = spark.sparkContext\n",
    "sc.setLogLevel(\"WARN\")\n",
    "\n",
    "print(\"Spark version: \" + str(sc.version))"
   ]
  },
  {
   "cell_type": "code",
   "execution_count": null,
   "id": "79ff39da",
   "metadata": {},
   "outputs": [],
   "source": [
    "datasets_path = '/opt/workspace/facial_database/datasets/imdb_datasets/'\n",
    "names_file = 'name.basics.tsv.gz'\n",
    "basics_file = 'title.basics.tsv.gz'\n",
    "crew_file = 'title.crew.tsv.gz'\n",
    "principals_file = 'title.principals.tsv.gz'\n",
    "director_name = 'Christopher Nolan'\n",
    "birth_year = 1970"
   ]
  },
  {
   "cell_type": "code",
   "execution_count": null,
   "id": "461a597a",
   "metadata": {},
   "outputs": [],
   "source": [
    "raw_names_df = spark.read.csv(datasets_path + names_file,header= True, sep =r'\\t')\n",
    "raw_basics_df = spark.read.csv(datasets_path + basics_file,header= True, sep =r'\\t')\n",
    "raw_crew_df = spark.read.csv(datasets_path + crew_file,header= True, sep =r'\\t')\n",
    "raw_principals_df = spark.read.csv(datasets_path + principals_file,header= True, sep =r'\\t').alias('raw_principals_df')"
   ]
  },
  {
   "cell_type": "code",
   "execution_count": null,
   "id": "af63fcd7",
   "metadata": {},
   "outputs": [],
   "source": [
    "director_id = raw_names_df.filter((raw_names_df.primaryName == director_name) & (raw_names_df.birthYear == birth_year) ).select('nconst').collect()[0][0]\n",
    "movies_ids_df = raw_crew_df.filter(F.col('directors').like('%' + director_id + '%')).select('tconst')\n",
    "movies_df = raw_basics_df.join(movies_ids_df, ['tconst'], 'inner')"
   ]
  },
  {
   "cell_type": "code",
   "execution_count": null,
   "id": "9bb35873",
   "metadata": {},
   "outputs": [],
   "source": [
    "principals_df = raw_principals_df.join(movies_df, ['tconst'], 'inner').select('raw_principals_df.*')"
   ]
  },
  {
   "cell_type": "code",
   "execution_count": null,
   "id": "075fd723",
   "metadata": {},
   "outputs": [],
   "source": [
    "people_id_df = principals_df.select('nconst').dropDuplicates()\n",
    "people_df = raw_names_df.join(people_id_df, ['nconst'], 'inner')"
   ]
  },
  {
   "cell_type": "code",
   "execution_count": null,
   "id": "ca04ac3b",
   "metadata": {},
   "outputs": [],
   "source": [
    "#MySQL metadata (defined in docker-compose file)\n",
    "sql_user = 'WIOS_User'\n",
    "sql_pwd = 'Whoisonscreen!'\n",
    "db_name = director_name.replace(' ','_').lower() \n",
    "uri = 'mysql+pymysql://' + sql_user + ':' + sql_pwd + '@' + 'mysql' + ':' + '3306' + '/' + db_name\n",
    "imdb_metadata_folder = '/opt/workspace/facial_database/python_scripts/'\n",
    "imdb_metadata_file = 'imdb_metadata.json'"
   ]
  },
  {
   "cell_type": "code",
   "execution_count": null,
   "id": "a3833323",
   "metadata": {},
   "outputs": [],
   "source": [
    "db.create_database(sql_user, sql_pwd, db_name)"
   ]
  },
  {
   "cell_type": "code",
   "execution_count": null,
   "id": "d0a573d2",
   "metadata": {},
   "outputs": [],
   "source": [
    "def create_tables():\n",
    "\n",
    "    imdb_datasets = json.load(open(imdb_metadata_folder + imdb_metadata_file))\n",
    "\n",
    "     #Creating tables in SQL and loading the data from the .tsv files\n",
    "    for datasets in imdb_datasets['datasets']:\n",
    "        table_name = datasets['name']\n",
    "        columns = datasets['columns']\n",
    "        db.create_table(sql_user,sql_pwd,db_name,table_name,columns)"
   ]
  },
  {
   "cell_type": "code",
   "execution_count": null,
   "id": "9b3ed645",
   "metadata": {},
   "outputs": [],
   "source": [
    "create_tables()"
   ]
  },
  {
   "cell_type": "code",
   "execution_count": null,
   "id": "552c319d",
   "metadata": {},
   "outputs": [],
   "source": [
    "def load_data(spark_df,table_name):\n",
    "    conn = db.return_conn(uri)    \n",
    "    db.insert_pd_df_in_table(conn,spark_df.toPandas(),table_name)"
   ]
  },
  {
   "cell_type": "code",
   "execution_count": null,
   "id": "ed33a27a",
   "metadata": {},
   "outputs": [],
   "source": [
    "load_data(movies_df,'imdb_titles')"
   ]
  },
  {
   "cell_type": "code",
   "execution_count": null,
   "id": "cfc31955",
   "metadata": {},
   "outputs": [],
   "source": [
    "load_data(principals_df,'imdb_actors_by_title')"
   ]
  },
  {
   "cell_type": "code",
   "execution_count": null,
   "id": "5e1182f4",
   "metadata": {},
   "outputs": [],
   "source": [
    "load_data(people_df,'imdb_peoples')"
   ]
  },
  {
   "cell_type": "code",
   "execution_count": null,
   "id": "b214d1f2",
   "metadata": {},
   "outputs": [],
   "source": [
    "spark.stop()"
   ]
  }
 ],
 "metadata": {
  "kernelspec": {
   "display_name": "Python 3 (ipykernel)",
   "language": "python",
   "name": "python3"
  },
  "language_info": {
   "codemirror_mode": {
    "name": "ipython",
    "version": 3
   },
   "file_extension": ".py",
   "mimetype": "text/x-python",
   "name": "python",
   "nbconvert_exporter": "python",
   "pygments_lexer": "ipython3",
   "version": "3.9.2"
  }
 },
 "nbformat": 4,
 "nbformat_minor": 5
}
