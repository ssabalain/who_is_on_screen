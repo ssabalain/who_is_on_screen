{
 "cells": [
  {
   "cell_type": "code",
   "execution_count": null,
   "id": "96484605",
   "metadata": {},
   "outputs": [],
   "source": [
    "import sys\n",
    "import cv2\n",
    "import numpy as np\n",
    "import os\n",
    "import matplotlib.pyplot as plt\n",
    "from datetime import timedelta\n",
    "import time\n",
    "import redis\n",
    "import struct\n",
    "from deepface import DeepFace\n",
    "from deepface.basemodels import Facenet\n",
    "from deepface.detectors import FaceDetector\n",
    "from deepface.commons import functions"
   ]
  },
  {
   "cell_type": "code",
   "execution_count": null,
   "id": "fc05b728",
   "metadata": {},
   "outputs": [],
   "source": [
    "!pip list"
   ]
  },
  {
   "cell_type": "code",
   "execution_count": null,
   "id": "8cc1ec7d",
   "metadata": {},
   "outputs": [],
   "source": []
  },
  {
   "cell_type": "code",
   "execution_count": null,
   "id": "69a5edbe",
   "metadata": {},
   "outputs": [],
   "source": [
    "r = redis.StrictRedis(host=\"redis\",port= 6379,db=0)\n",
    "r.ping()"
   ]
  },
  {
   "cell_type": "code",
   "execution_count": null,
   "id": "5b261fb7",
   "metadata": {},
   "outputs": [],
   "source": [
    "def toRedis(r,a,n):\n",
    "   \"\"\"Store given Numpy array 'a' in Redis under key 'n'\"\"\"\n",
    "   h, w = a.shape\n",
    "   shape = struct.pack('>II',h,w)\n",
    "   encoded = shape + a.tobytes()\n",
    "\n",
    "   # Store encoded data in Redis\n",
    "   r.set(n,encoded)\n",
    "   return\n",
    "\n",
    "def fromRedis(r,n):\n",
    "   \"\"\"Retrieve Numpy array from Redis key 'n'\"\"\"\n",
    "   encoded = r.get(n)\n",
    "   h, w = struct.unpack('>II',encoded[:8])\n",
    "   # Add slicing here, or else the array would differ from the original\n",
    "   a = np.frombuffer(encoded[8:],dtype=np.uint16).reshape(h,w)\n",
    "   return a\n",
    "\n",
    "# Create 80x80 numpy array to store\n",
    "#a0 = np.arange(6400,dtype=np.uint16).reshape(80,80) \n",
    "\n",
    "# Redis connection\n",
    "#r = redis.Redis(host='localhost', port=6379, db=0)\n",
    "\n",
    "# Store array a0 in Redis under name 'a0array'\n",
    "#toRedis(r,a0,'a0array')\n",
    "\n",
    "# Retrieve from Redis\n",
    "#a1 = fromRedis(r,'a0array')\n",
    "\n",
    "#np.testing.assert_array_equal(a0,a1 )"
   ]
  },
  {
   "cell_type": "code",
   "execution_count": null,
   "id": "4c089748",
   "metadata": {},
   "outputs": [],
   "source": [
    "video_file = '/opt/workspace/facial_database/datasets/videos/dream_scene.mp4'"
   ]
  },
  {
   "cell_type": "code",
   "execution_count": 2,
   "id": "6cdf6510",
   "metadata": {},
   "outputs": [],
   "source": [
    "one_person = '/opt/workspace/facial_database/datasets/actor_faces/2037_cillian_murphy/cillian_murphy_1.jpg'\n",
    "two_person = '/opt/workspace/facial_database/datasets/two_people.jpeg'"
   ]
  },
  {
   "cell_type": "markdown",
   "id": "4c9103c6",
   "metadata": {},
   "source": [
    "### Face detection"
   ]
  },
  {
   "cell_type": "code",
   "execution_count": null,
   "id": "710a4457",
   "metadata": {},
   "outputs": [],
   "source": [
    "backends = ['opencv', 'ssd', 'dlib', 'mtcnn', 'retinaface']\n",
    "\n",
    "#face detection and alignment\n",
    "detected_face = DeepFace.detectFace(test_image, target_size = (160, 160) ,detector_backend = backends[0])\n",
    "\n",
    "##face verification\n",
    "#obj = DeepFace.verify(\"img1.jpg\", \"img2.jpg\", detector_backend = backends[4])\n",
    "\n",
    "#face recognition\n",
    "#df = DeepFace.find(img_path = \"img.jpg\", db_path = \"my_db\", detector_backend = backends[4])\n",
    "\n",
    "#facial analysis\n",
    "#demography = DeepFace.analyze(\"img4.jpg\", detector_backend = backends[4])"
   ]
  },
  {
   "cell_type": "code",
   "execution_count": 46,
   "id": "e06b82fa",
   "metadata": {},
   "outputs": [],
   "source": [
    "img = cv2.imread(two_person)\n",
    "face = get_faces_from_img(img)"
   ]
  },
  {
   "cell_type": "code",
   "execution_count": 47,
   "id": "595e6b74",
   "metadata": {},
   "outputs": [
    {
     "data": {
      "text/plain": [
       "2"
      ]
     },
     "execution_count": 47,
     "metadata": {},
     "output_type": "execute_result"
    }
   ],
   "source": [
    "len(face)"
   ]
  },
  {
   "cell_type": "code",
   "execution_count": 45,
   "id": "201eafb3",
   "metadata": {},
   "outputs": [],
   "source": [
    "def get_faces_from_img(img,detector_name = 'opencv'):\n",
    "    detector = FaceDetector.build_model(detector_name)\n",
    "    obj = FaceDetector.detect_faces(detector, detector_name, img)\n",
    "    return obj"
   ]
  },
  {
   "cell_type": "code",
   "execution_count": null,
   "id": "e4cb8deb",
   "metadata": {},
   "outputs": [],
   "source": [
    "#detect and align\n",
    "test_image_3 = cv2.imread(test_image)\n",
    "array = get_embedding_for_img(test_image_3)"
   ]
  },
  {
   "cell_type": "code",
   "execution_count": 131,
   "id": "9a6a9ff8",
   "metadata": {},
   "outputs": [],
   "source": [
    "def get_embedding_for_img(img,model = 'Facenet',size = (160,160)):\n",
    "    model = DeepFace.build_model(model)\n",
    "    try:\n",
    "        proccesed_image = functions.preprocess_face(img, target_size = size)\n",
    "        embedding = model.predict(proccesed_image)[0].tolist()\n",
    "        arr = np.array(embedding)\n",
    "        return arr        "
   ]
  },
  {
   "cell_type": "code",
   "execution_count": null,
   "id": "b198546b",
   "metadata": {},
   "outputs": [],
   "source": [
    "#store in redis\n",
    "r.rpush(\"embedding:\"+'Cillian', *embedding) #Pushing list to redis\n",
    "r.set(\"photo:\"+'Cillian', test_image)"
   ]
  },
  {
   "cell_type": "code",
   "execution_count": null,
   "id": "46d61d9c",
   "metadata": {},
   "outputs": [],
   "source": [
    "r.get(\"photo:Cillian\")"
   ]
  },
  {
   "cell_type": "code",
   "execution_count": null,
   "id": "3565a5f7",
   "metadata": {},
   "outputs": [],
   "source": [
    "array = r.lrange(\"embedding:Cillian\",0,-1)"
   ]
  },
  {
   "cell_type": "code",
   "execution_count": null,
   "id": "ee89e590",
   "metadata": {},
   "outputs": [],
   "source": [
    "r.keys()"
   ]
  },
  {
   "cell_type": "code",
   "execution_count": null,
   "id": "0b233643",
   "metadata": {},
   "outputs": [],
   "source": [
    "array"
   ]
  },
  {
   "cell_type": "code",
   "execution_count": null,
   "id": "d41f061c",
   "metadata": {},
   "outputs": [],
   "source": [
    "r.set(\"Hello\",\"World\")"
   ]
  },
  {
   "cell_type": "code",
   "execution_count": null,
   "id": "6bea4483",
   "metadata": {},
   "outputs": [],
   "source": [
    "cap = cv2.VideoCapture(video_file)\n",
    "video_fps = cap.get(cv2.CAP_PROP_FPS)\n",
    "desired_fps = 1\n",
    "amount_of_frames = cap.get(cv2.CAP_PROP_FRAME_COUNT)\n",
    "results = []\n",
    "frame_no = 0\n",
    "\n",
    "starttime = time.time()\n",
    "while(cap.isOpened()):\n",
    "    frame_exists, curr_frame = cap.read()\n",
    "    if frame_exists:\n",
    "        if frame_no % (round(video_fps/desired_fps)) == 0:\n",
    "            #faces = get_faces_from_img(curr_frame)\n",
    "            try:\n",
    "                first_face_embedding = get_embedding_for_img(curr_frame)\n",
    "                results.append(first_face_embedding)\n",
    "            except:\n",
    "                print(\"An error ocurred:\",sys.exc_info()[0])\n",
    "            \n",
    "\n",
    "            #fix_frame = cv2.cvtColor(curr_frame,cv2.COLOR_BGR2RGB)\n",
    "            #timestamp = timedelta(milliseconds = cap.get(cv2.CAP_PROP_POS_MSEC))\n",
    "            #results.append([str(frame_no),str(timestamp)])\n",
    "            #print(\"for frame : \" + str(frame_no) + \"   timestamp is: \", str(timestamp))\n",
    "    else:\n",
    "        break\n",
    "    frame_no += 1\n",
    "\n",
    "endtime = time.time()\n",
    "exec_time = str(endtime - starttime)\n",
    "print(f'total execution time = {exec_time} seconds')\n",
    "\n",
    "cap.release()\n",
    "cv2.destroyAllWindows()"
   ]
  },
  {
   "cell_type": "code",
   "execution_count": null,
   "id": "ccbe23bf",
   "metadata": {},
   "outputs": [],
   "source": [
    "print(results)"
   ]
  },
  {
   "cell_type": "code",
   "execution_count": null,
   "id": "7871c202",
   "metadata": {},
   "outputs": [],
   "source": [
    "#2614-2637 01:47"
   ]
  },
  {
   "cell_type": "markdown",
   "id": "3eac7300",
   "metadata": {},
   "source": [
    "### Capturing one frame of video"
   ]
  },
  {
   "cell_type": "code",
   "execution_count": null,
   "id": "e7473568",
   "metadata": {},
   "outputs": [],
   "source": [
    "frame_number = 1\n",
    "cap = cv2.VideoCapture(video_file)\n",
    "cap.set(cv2.CAP_PROP_POS_FRAMES, frame_number-1)\n",
    "frame_exists, frame = cap.read()\n",
    "\n",
    "if frame_exists:\n",
    "    #plt.imshow(frame)\n",
    "    face_object = get_faces_from_img(frame)\n",
    "    embeddings = get_embedding_for_img(face_object[0][0][:,:,::-1])\n",
    "    print(embeddings)\n",
    "    plt.imshow(face_object[0][0][:,:,::-1])\n",
    "    print(len(face_object))\n",
    "    \n",
    "\n",
    "cap.release()\n",
    "cv2.destroyAllWindows()"
   ]
  },
  {
   "cell_type": "code",
   "execution_count": null,
   "id": "02fc00f5",
   "metadata": {},
   "outputs": [],
   "source": []
  },
  {
   "cell_type": "code",
   "execution_count": null,
   "id": "d1dffd3a",
   "metadata": {},
   "outputs": [],
   "source": [
    "frame = get_frame(video_file,2639)\n",
    "print('shape is', frame.shape)\n",
    "print('pixel at (60,21)',frame[60,21,:])\n",
    "print('pixel at (120,10)',frame[120,10,:])\n",
    "plt.imshow(frame)"
   ]
  },
  {
   "cell_type": "code",
   "execution_count": null,
   "id": "2c7fa8a3",
   "metadata": {},
   "outputs": [],
   "source": []
  },
  {
   "cell_type": "code",
   "execution_count": null,
   "id": "b0c005e3",
   "metadata": {},
   "outputs": [],
   "source": [
    "fix_frame=cv2.cvtColor(frame,cv2.COLOR_BGR2RGB)\n",
    "print('pixel at (120,10)',fix_frame[120,10,:])\n",
    "plt.imshow(fix_frame)"
   ]
  },
  {
   "cell_type": "code",
   "execution_count": null,
   "id": "14793eea",
   "metadata": {},
   "outputs": [],
   "source": []
  }
 ],
 "metadata": {
  "kernelspec": {
   "display_name": "Python 3 (ipykernel)",
   "language": "python",
   "name": "python3"
  },
  "language_info": {
   "codemirror_mode": {
    "name": "ipython",
    "version": 3
   },
   "file_extension": ".py",
   "mimetype": "text/x-python",
   "name": "python",
   "nbconvert_exporter": "python",
   "pygments_lexer": "ipython3",
   "version": "3.7.10"
  }
 },
 "nbformat": 4,
 "nbformat_minor": 5
}
