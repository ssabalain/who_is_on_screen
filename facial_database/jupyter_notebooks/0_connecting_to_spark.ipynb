{
 "cells": [
  {
   "cell_type": "markdown",
   "id": "2ddf0e90-b595-4472-96cf-75437e6eaa25",
   "metadata": {},
   "source": [
    "## Testing connection between Jupyter and the Spark Cluster\n",
    "\n",
    "The main goal of this notebook is to test if the connection between the Jupyter service and the Spark Cluster is working properly.\n",
    "This could be used as a snippet for any other Jupyter-Spark development."
   ]
  },
  {
   "cell_type": "markdown",
   "id": "a2d85fcf-b977-4d5e-823d-d3ce9e2fc155",
   "metadata": {},
   "source": [
    "### Importing libraries"
   ]
  },
  {
   "cell_type": "code",
   "execution_count": null,
   "id": "321b4b0b-d8dd-4aab-a61d-bb16f57e4df1",
   "metadata": {},
   "outputs": [],
   "source": [
    "from pyspark import SparkConf, SparkContext\n",
    "from pyspark.sql import SparkSession"
   ]
  },
  {
   "cell_type": "markdown",
   "id": "d2750911-66d0-4b7b-bb01-96511ec87d22",
   "metadata": {},
   "source": [
    "### Connecting to Spark cluster and raising a Spark Session\n",
    "\n",
    "Once the session is raised, we should be able to see the app name in http://localhost:8080/."
   ]
  },
  {
   "cell_type": "code",
   "execution_count": 3,
   "id": "c05bb552",
   "metadata": {},
   "outputs": [
    {
     "name": "stdout",
     "output_type": "stream",
     "text": [
      "Spark version: 3.2.0\n"
     ]
    }
   ],
   "source": [
    "master = \"spark://spark:7077\"\n",
    "app_name = \"Testing if jupyter can communicate with spark\"\n",
    "spark = (\n",
    "    SparkSession.builder\n",
    "    .appName(app_name)\n",
    "    .master(master)\n",
    "    .config(\"spark.driver.memory\", \"512m\")\n",
    "    .config(\"spark.driver.cores\", \"1\")\n",
    "    .config(\"spark.executor.memory\", \"2g\")\n",
    "    .config(\"spark.executor.cores\", \"2\")\n",
    "    .config(\"spark.sql.shuffle.partitions\", \"2\")\n",
    "    .getOrCreate()\n",
    ")\n",
    "sc = spark.sparkContext\n",
    "sc.setLogLevel(\"WARN\")\n",
    "\n",
    "print(\"Spark version: \" + str(sc.version))"
   ]
  },
  {
   "cell_type": "markdown",
   "id": "b6bd78e1-daf3-44a6-b57a-e4d557f14e7d",
   "metadata": {},
   "source": [
    "### Terminating Spark session\n",
    "\n",
    "Otherwise, it will be endlessly running."
   ]
  },
  {
   "cell_type": "code",
   "execution_count": null,
   "id": "40e87d37-9385-468a-854d-7b4f02d951f8",
   "metadata": {},
   "outputs": [],
   "source": [
    "spark.stop()"
   ]
  }
 ],
 "metadata": {
  "kernelspec": {
   "display_name": "Python 3 (ipykernel)",
   "language": "python",
   "name": "python3"
  },
  "language_info": {
   "codemirror_mode": {
    "name": "ipython",
    "version": 3
   },
   "file_extension": ".py",
   "mimetype": "text/x-python",
   "name": "python",
   "nbconvert_exporter": "python",
   "pygments_lexer": "ipython3",
   "version": "3.9.7"
  }
 },
 "nbformat": 4,
 "nbformat_minor": 5
}
