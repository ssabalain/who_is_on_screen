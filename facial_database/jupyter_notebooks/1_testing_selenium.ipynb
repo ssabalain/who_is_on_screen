{
 "cells": [
  {
   "cell_type": "markdown",
   "id": "6fda0733",
   "metadata": {},
   "source": [
    "## Testing Selenium module for downloading actor faces"
   ]
  },
  {
   "cell_type": "markdown",
   "id": "242d11b5",
   "metadata": {},
   "source": [
    "We first import local module \"download_images\""
   ]
  },
  {
   "cell_type": "code",
   "execution_count": 5,
   "id": "420e0d59",
   "metadata": {},
   "outputs": [],
   "source": [
    "import os\n",
    "import sys\n",
    "sys.path.append('/opt/workspace/facial_database/python_scripts/')\n",
    "import download_images as di"
   ]
  },
  {
   "cell_type": "markdown",
   "id": "d74ddbcd",
   "metadata": {},
   "source": [
    "We use function \"create_actor_folder\" to download a specific number of photos of an actor's face"
   ]
  },
  {
   "cell_type": "code",
   "execution_count": null,
   "id": "dc3ad093",
   "metadata": {},
   "outputs": [],
   "source": [
    "faces_folder = '/opt/workspace/facial_database/datasets/actor_faces/'\n",
    "query = 'Tom Hardy Face'\n",
    "file_name = query.replace(' ','_').lower() \n",
    "number_of_images = 7\n",
    "\n",
    "di.get_images_on_folder(faces_folder, query,file_name, number_of_images)"
   ]
  }
 ],
 "metadata": {
  "kernelspec": {
   "display_name": "Python 3 (ipykernel)",
   "language": "python",
   "name": "python3"
  },
  "language_info": {
   "codemirror_mode": {
    "name": "ipython",
    "version": 3
   },
   "file_extension": ".py",
   "mimetype": "text/x-python",
   "name": "python",
   "nbconvert_exporter": "python",
   "pygments_lexer": "ipython3",
   "version": "3.9.2"
  }
 },
 "nbformat": 4,
 "nbformat_minor": 5
}
