{
 "cells": [
  {
   "cell_type": "markdown",
   "id": "c87af758",
   "metadata": {},
   "source": [
    "## Getting embeddings for images\n",
    "\n",
    "In this notebook we will go through the different functions used to get the embeddings of different images."
   ]
  },
  {
   "cell_type": "markdown",
   "id": "0ef03c63",
   "metadata": {},
   "source": [
    "### Importing libraries"
   ]
  },
  {
   "cell_type": "code",
   "execution_count": null,
   "id": "71e341b3",
   "metadata": {},
   "outputs": [],
   "source": [
    "import sys\n",
    "import os\n",
    "import json\n",
    "sys.path.append('/opt/workspace/src/python_scripts/')\n",
    "from ops_face_detection import get_embeddings_from_image, get_actors_embeddings\n",
    "path_arr = os.getcwd().split(os.path.sep)\n",
    "os.chdir(os.path.sep.join(path_arr[:path_arr.index('src')+1]))"
   ]
  },
  {
   "cell_type": "markdown",
   "id": "da0987b0",
   "metadata": {},
   "source": [
    "### Getting embeddings for one image\n",
    "\n",
    "We can easily get the embeddings for an image by providing the path to function `get_embeddings_from_image`"
   ]
  },
  {
   "cell_type": "code",
   "execution_count": null,
   "id": "73d8945b",
   "metadata": {},
   "outputs": [],
   "source": [
    "image_path = './datasets/actor_faces/2037_cillian_murphy/cillian_murphy_1.jpg'\n",
    "image_embeddings, image_embeddings_metadata = get_embeddings_from_image(\n",
    "    img_path = image_path, \n",
    "    display = True\n",
    ")\n",
    "\n",
    "print(f'Number of embeddings generated: {len(image_embeddings)}')\n",
    "print(f'Embeddings metadata: \\n')\n",
    "print(json.dumps(image_embeddings_metadata,indent=4))"
   ]
  },
  {
   "cell_type": "markdown",
   "id": "809b151c",
   "metadata": {},
   "source": [
    "We can also detect more than one face if the `multiple_faces` parameter is enabled"
   ]
  },
  {
   "cell_type": "code",
   "execution_count": null,
   "id": "624b0c8e",
   "metadata": {},
   "outputs": [],
   "source": [
    "image_path = './datasets/two_persons.jpeg'\n",
    "image_embeddings, image_embeddings_metadata = get_embeddings_from_image(\n",
    "    img_path = image_path, \n",
    "    multiple_faces=True, \n",
    "    display = True\n",
    ")\n",
    "\n",
    "print(f'Number of embeddings generated: {len(image_embeddings)}')\n",
    "print(f'Embeddings metadata: \\n')\n",
    "print(json.dumps(image_embeddings_metadata,indent=4))"
   ]
  },
  {
   "cell_type": "markdown",
   "id": "17e2ca8c",
   "metadata": {},
   "source": [
    "### Getting embeddings for a whole dataset of actors\n",
    "\n",
    "We can also provide a specific dataset folder and then scan all the images contained, with it respective metadata"
   ]
  },
  {
   "cell_type": "code",
   "execution_count": null,
   "id": "f89a2c9e",
   "metadata": {},
   "outputs": [],
   "source": [
    "dataset_folder = './datasets/actor_faces'\n",
    "actor_embeddings, actor_embeddings_metadata = get_actors_embeddings(dataset_folder)\n",
    "\n",
    "print(f'Keys from resulting embeddings dictionary: {actor_embeddings.keys()} \\n')\n",
    "print(f'First embeddings for actor {actor_embeddings[\"names\"][0]}:\\\n",
    "    \\n {actor_embeddings[\"embeddings\"][0]} \\n')\n",
    "print(f'Keys for resulting metadata dictionary: {actor_embeddings_metadata.keys()}')"
   ]
  },
  {
   "cell_type": "markdown",
   "id": "7f1eb1eb",
   "metadata": {},
   "source": [
    "### Creating an embeddings model\n",
    "\n",
    "We can save create different embeddings models using different datasets of different number of images. This function will allow us to have a clear track of\n",
    "every model by storing this information in an index"
   ]
  },
  {
   "cell_type": "code",
   "execution_count": null,
   "id": "32ac710a",
   "metadata": {},
   "outputs": [],
   "source": [
    "dataset_folder = './datasets/actor_faces'\n",
    "models_folder = './models/embeddings/actor_faces'\n",
    "actor_embeddings, actor_embeddings_metadata = get_actors_embeddings(\n",
    "    dataset_folder,\n",
    "    save_to_pickle=True,\n",
    "    output_folder=models_folder\n",
    ")"
   ]
  }
 ],
 "metadata": {
  "kernelspec": {
   "display_name": "Python 3 (ipykernel)",
   "language": "python",
   "name": "python3"
  },
  "language_info": {
   "codemirror_mode": {
    "name": "ipython",
    "version": 3
   },
   "file_extension": ".py",
   "mimetype": "text/x-python",
   "name": "python",
   "nbconvert_exporter": "python",
   "pygments_lexer": "ipython3",
   "version": "3.7.10"
  }
 },
 "nbformat": 4,
 "nbformat_minor": 5
}
