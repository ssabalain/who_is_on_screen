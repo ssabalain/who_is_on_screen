{
 "cells": [
  {
   "cell_type": "markdown",
   "id": "24451b87",
   "metadata": {},
   "source": [
    "## Creating recognizers models\n",
    "\n",
    "Once we have an embedding model for a specific dataset, we can create recognizers around them"
   ]
  },
  {
   "cell_type": "markdown",
   "id": "1096f157",
   "metadata": {},
   "source": [
    "### Importing libraries"
   ]
  },
  {
   "cell_type": "code",
   "execution_count": null,
   "id": "dfd1e078",
   "metadata": {},
   "outputs": [],
   "source": [
    "import sys\n",
    "import os\n",
    "sys.path.append('/opt/workspace/src/python_scripts/')\n",
    "from ops_face_recognition import train_recognizer, create_recognizer_model\n",
    "script_name = os.path.basename(__name__)\n",
    "path_arr = os.getcwd().split(os.path.sep)\n",
    "os.chdir(os.path.sep.join(path_arr[:path_arr.index('src')+1]))"
   ]
  },
  {
   "cell_type": "markdown",
   "id": "a0b13188",
   "metadata": {},
   "source": [
    "### Training recognizer\n",
    "With function `train_recognizer` we can get a dictionary with a trained SVC for a specific model"
   ]
  },
  {
   "cell_type": "code",
   "execution_count": null,
   "id": "86055bc6",
   "metadata": {},
   "outputs": [],
   "source": [
    "embeddings_folder = './models/embeddings/actor_faces'\n",
    "recognizer_dict = train_recognizer(embeddings_folder)\n",
    "recognizer_dict"
   ]
  },
  {
   "cell_type": "markdown",
   "id": "50e433a9",
   "metadata": {},
   "source": [
    "### Creating recognizer model\n",
    "\n",
    "We can also add a trained recognizer into our recognizer folder. This will also add this information into the embeddings models metadata."
   ]
  },
  {
   "cell_type": "code",
   "execution_count": null,
   "id": "d2192e3e",
   "metadata": {},
   "outputs": [],
   "source": [
    "recognizer_path = './models/recognizers'\n",
    "create_recognizer_model(recognizer_dict,recognizer_path)"
   ]
  }
 ],
 "metadata": {
  "kernelspec": {
   "display_name": "Python 3 (ipykernel)",
   "language": "python",
   "name": "python3"
  },
  "language_info": {
   "codemirror_mode": {
    "name": "ipython",
    "version": 3
   },
   "file_extension": ".py",
   "mimetype": "text/x-python",
   "name": "python",
   "nbconvert_exporter": "python",
   "pygments_lexer": "ipython3",
   "version": "3.7.10"
  }
 },
 "nbformat": 4,
 "nbformat_minor": 5
}
