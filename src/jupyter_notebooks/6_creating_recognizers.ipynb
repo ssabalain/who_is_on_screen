{
 "cells": [
  {
   "cell_type": "markdown",
   "id": "bdf367bc",
   "metadata": {},
   "source": [
    "## Creating recognizers models\n",
    "\n",
    "Once we have an embedding model for a specific dataset, we can create recognizers around them"
   ]
  },
  {
   "cell_type": "markdown",
   "id": "bc69a44c",
   "metadata": {},
   "source": [
    "### Importing libraries"
   ]
  },
  {
   "cell_type": "code",
   "execution_count": null,
   "id": "9ba25263",
   "metadata": {},
   "outputs": [],
   "source": [
    "import sys\n",
    "import os\n",
    "sys.path.append('/opt/workspace/src/python_scripts/')\n",
    "from ops_face_recognition import train_recognizer\n",
    "script_name = os.path.basename(__name__)\n",
    "path_arr = os.getcwd().split(os.path.sep)\n",
    "os.chdir(os.path.sep.join(path_arr[:path_arr.index('src')+1]))"
   ]
  },
  {
   "cell_type": "markdown",
   "id": "8f6f4a2f",
   "metadata": {},
   "source": [
    "### Training recognizer\n",
    "With function `train_recognizer` we can get a dictionary with a trained SVC for a specific model"
   ]
  },
  {
   "cell_type": "code",
   "execution_count": null,
   "id": "37f9b520",
   "metadata": {},
   "outputs": [],
   "source": [
    "embeddings_folder = './models/embeddings/actor_faces'\n",
    "recognizer_dict, recognizer_metadata = train_recognizer(embeddings_folder)\n",
    "print(recognizer_metadata)\n",
    "print(recognizer_dict)"
   ]
  },
  {
   "cell_type": "markdown",
   "id": "337944cd",
   "metadata": {},
   "source": [
    "### Creating recognizer model\n",
    "\n",
    "We can also add a trained recognizer into our recognizer folder. This will also add this information into the embeddings models metadata."
   ]
  },
  {
   "cell_type": "code",
   "execution_count": null,
   "id": "6af4d961",
   "metadata": {},
   "outputs": [],
   "source": [
    "embeddings_folder = './models/embeddings/actor_faces'\n",
    "recognizer_path = './models/recognizers'\n",
    "recognizer_dict, recognizer_metadata = train_recognizer(embeddings_folder,save_to_pickle=True,output_folder=recognizer_path)"
   ]
  }
 ],
 "metadata": {
  "kernelspec": {
   "display_name": "Python 3 (ipykernel)",
   "language": "python",
   "name": "python3"
  },
  "language_info": {
   "codemirror_mode": {
    "name": "ipython",
    "version": 3
   },
   "file_extension": ".py",
   "mimetype": "text/x-python",
   "name": "python",
   "nbconvert_exporter": "python",
   "pygments_lexer": "ipython3",
   "version": "3.7.10"
  }
 },
 "nbformat": 4,
 "nbformat_minor": 5
}
