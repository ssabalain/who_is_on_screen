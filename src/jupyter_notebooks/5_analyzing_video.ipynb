{
 "cells": [
  {
   "cell_type": "code",
   "execution_count": null,
   "id": "ee33b78a",
   "metadata": {},
   "outputs": [],
   "source": [
    "import sys\n",
    "import cv2\n",
    "import numpy as np\n",
    "import os\n",
    "import matplotlib.pyplot as plt\n",
    "from datetime import timedelta\n",
    "import time\n",
    "from datetime import datetime\n",
    "import redis\n",
    "import struct\n",
    "#from deepface import DeepFace\n",
    "#from deepface.basemodels import Facenet\n",
    "#from deepface.detectors import FaceDetector\n",
    "#from deepface.commons import functions\n",
    "import sys\n",
    "sys.path.append('/opt/workspace/src/python_scripts/')\n",
    "import ops_files_operations as files\n",
    "import ops_logger as log\n",
    "import ops_face_detection as fd\n",
    "import ops_face_recognition as fr"
   ]
  },
  {
   "cell_type": "code",
   "execution_count": null,
   "id": "d52e02f2",
   "metadata": {},
   "outputs": [],
   "source": [
    "script_name = os.path.basename(__name__)\n",
    "path_arr = os.getcwd().split(os.path.sep)\n",
    "os.chdir(os.path.sep.join(path_arr[:path_arr.index('src')+1]))"
   ]
  },
  {
   "cell_type": "code",
   "execution_count": null,
   "id": "e8b8caa6",
   "metadata": {},
   "outputs": [],
   "source": []
  },
  {
   "cell_type": "code",
   "execution_count": null,
   "id": "3dd8da34",
   "metadata": {},
   "outputs": [],
   "source": [
    "r = redis.StrictRedis(host=\"redis\",port= 6379,db=0)\n",
    "r.ping()"
   ]
  },
  {
   "cell_type": "code",
   "execution_count": null,
   "id": "68a8e33c",
   "metadata": {},
   "outputs": [],
   "source": [
    "def toRedis(r,a,n):\n",
    "   \"\"\"Store given Numpy array 'a' in Redis under key 'n'\"\"\"\n",
    "   h, w = a.shape\n",
    "   shape = struct.pack('>II',h,w)\n",
    "   encoded = shape + a.tobytes()\n",
    "\n",
    "   # Store encoded data in Redis\n",
    "   r.set(n,encoded)\n",
    "   return\n",
    "\n",
    "def fromRedis(r,n):\n",
    "   \"\"\"Retrieve Numpy array from Redis key 'n'\"\"\"\n",
    "   encoded = r.get(n)\n",
    "   h, w = struct.unpack('>II',encoded[:8])\n",
    "   # Add slicing here, or else the array would differ from the original\n",
    "   a = np.frombuffer(encoded[8:],dtype=np.uint16).reshape(h,w)\n",
    "   return a\n",
    "\n",
    "# Create 80x80 numpy array to store\n",
    "#a0 = np.arange(6400,dtype=np.uint16).reshape(80,80) \n",
    "\n",
    "# Redis connection\n",
    "#r = redis.Redis(host='localhost', port=6379, db=0)\n",
    "\n",
    "# Store array a0 in Redis under name 'a0array'\n",
    "#toRedis(r,a0,'a0array')\n",
    "\n",
    "# Retrieve from Redis\n",
    "#a1 = fromRedis(r,'a0array')\n",
    "\n",
    "#np.testing.assert_array_equal(a0,a1 )"
   ]
  },
  {
   "cell_type": "markdown",
   "id": "395076aa",
   "metadata": {},
   "source": [
    "### Face detection"
   ]
  },
  {
   "cell_type": "code",
   "execution_count": null,
   "id": "4105eb63",
   "metadata": {},
   "outputs": [],
   "source": [
    "backends = ['opencv', 'ssd', 'dlib', 'mtcnn', 'retinaface']\n",
    "\n",
    "#face detection and alignment\n",
    "detected_face = DeepFace.detectFace(test_image, target_size = (160, 160) ,detector_backend = backends[0])\n",
    "\n",
    "##face verification\n",
    "#obj = DeepFace.verify(\"img1.jpg\", \"img2.jpg\", detector_backend = backends[4])\n",
    "\n",
    "#face recognition\n",
    "#df = DeepFace.find(img_path = \"img.jpg\", db_path = \"my_db\", detector_backend = backends[4])\n",
    "\n",
    "#facial analysis\n",
    "#demography = DeepFace.analyze(\"img4.jpg\", detector_backend = backends[4])"
   ]
  },
  {
   "cell_type": "code",
   "execution_count": null,
   "id": "14432e30",
   "metadata": {},
   "outputs": [],
   "source": [
    "img = cv2.imread(two_person)\n",
    "face = get_faces_from_img(img)"
   ]
  },
  {
   "cell_type": "code",
   "execution_count": null,
   "id": "c3faed05",
   "metadata": {},
   "outputs": [],
   "source": [
    "\n",
    "logger = log.create_logger(level = 'info')\n",
    "starttime = time.time()\n",
    "cap = cv2.VideoCapture(video_file)\n",
    "video_fps = cap.get(cv2.CAP_PROP_FPS)\n",
    "desired_fps = 1\n",
    "results = []\n",
    "frame_no = 0\n",
    "frames_read = 0\n",
    "\n",
    "while(cap.isOpened()):\n",
    "    frame_exists, curr_frame = cap.read()\n",
    "    if frame_exists:\n",
    "        if frame_no % (round(video_fps/desired_fps)) == 0:\n",
    "            try:\n",
    "                frames_read+=1\n",
    "                #frame_timestamp = timedelta(milliseconds = cap.get(cv2.CAP_PROP_POS_MSEC))\n",
    "                frame_timestamp = time.strftime('%H:%M:%S.{}'.format(round(round((frame_no/video_fps) % 1,3)*1000)), time.gmtime(frame_no/video_fps))\n",
    "                frame_embeddings =  np.array(fd.get_embeddings_from_image(provided_image =curr_frame, multiple_faces = True, logger = logger ))\n",
    "                results.append([str(frame_no),str(frame_timestamp),frame_embeddings])\n",
    "                \n",
    "            except:\n",
    "                logger.error(\"An error ocurred:\",sys.exc_info()[0])\n",
    "\n",
    "    else:\n",
    "        break\n",
    "\n",
    "    frame_no += 1\n",
    "\n",
    "    \n",
    "results_array = np.asarray(results, dtype=object)\n",
    "endtime = time.time()\n",
    "exec_time = str(endtime - starttime)\n",
    "logger.info(f'total execution time = {exec_time} seconds. Total frames: {frames_read}')\n",
    "log.shutdown_logger(logger)\n",
    "\n",
    "cap.release()\n",
    "cv2.destroyAllWindows()"
   ]
  },
  {
   "cell_type": "code",
   "execution_count": null,
   "id": "4a3b3b18",
   "metadata": {},
   "outputs": [],
   "source": [
    "video_file = './datasets/videos/the_final_kick.mp4'\n",
    "results,dict = fd.process_video(video_file)"
   ]
  },
  {
   "cell_type": "code",
   "execution_count": null,
   "id": "430effe8",
   "metadata": {},
   "outputs": [],
   "source": [
    "results"
   ]
  },
  {
   "cell_type": "code",
   "execution_count": null,
   "id": "87085ce9",
   "metadata": {},
   "outputs": [],
   "source": [
    "probs = fr.predict_probabilities([results_array[11][2][0]],'./models/embeddings','./models/recognizers')"
   ]
  },
  {
   "cell_type": "code",
   "execution_count": null,
   "id": "5d2b7456",
   "metadata": {},
   "outputs": [],
   "source": [
    "video_file = './datasets/videos/the_final_kick.mp4'\n",
    "results_path = './models/embeddings/processed_videos'\n",
    "fd.get_video_embeddings(video_file,results_path,partitions = 2)"
   ]
  },
  {
   "cell_type": "code",
   "execution_count": null,
   "id": "57c99ccb",
   "metadata": {},
   "outputs": [],
   "source": [
    "frame = 3984\n",
    "frame_timestamp = time.strftime('%H:%M:%S.{}'.format(round(round((frame/video_fps) % 1,3)*1000)), time.gmtime(frame/video_fps))"
   ]
  },
  {
   "cell_type": "code",
   "execution_count": null,
   "id": "7b625a47",
   "metadata": {},
   "outputs": [],
   "source": [
    "print(results)"
   ]
  },
  {
   "cell_type": "code",
   "execution_count": null,
   "id": "5358e5c4",
   "metadata": {},
   "outputs": [],
   "source": [
    "print(24%24)"
   ]
  },
  {
   "cell_type": "code",
   "execution_count": null,
   "id": "22b43b04",
   "metadata": {},
   "outputs": [],
   "source": [
    "#2614-2637 01:47"
   ]
  },
  {
   "cell_type": "code",
   "execution_count": null,
   "id": "1d169369",
   "metadata": {},
   "outputs": [],
   "source": [
    "image_path = './datasets/actor_faces/2037_cillian_murphy/cillian_murphy_1.jpg'\n",
    "#embeddings, metadata = fd.get_embeddings_from_image(image_path)\n",
    "dataset_folder = './datasets/actor_faces/'\n",
    "embeddings, metadata = fd.get_actors_embeddings(dataset_folder)"
   ]
  },
  {
   "cell_type": "code",
   "execution_count": null,
   "id": "48d2b027",
   "metadata": {},
   "outputs": [],
   "source": [
    "model_dict = {\n",
    "        \"model_name\": \"test1\",\n",
    "        \"embeddings_path\": \"my/path/lol\"\n",
    "    }\n",
    "model_dict"
   ]
  },
  {
   "cell_type": "code",
   "execution_count": null,
   "id": "6c0ff982",
   "metadata": {},
   "outputs": [],
   "source": [
    "model_dict.update(metadata)"
   ]
  },
  {
   "cell_type": "code",
   "execution_count": null,
   "id": "9c8199cc",
   "metadata": {},
   "outputs": [],
   "source": [
    "embeddings_index_file = './models/embeddings/actor_faces/embeddings_metadata.json'\n",
    "files.add_embeddings_data(embeddings_index_file,model_dict)"
   ]
  },
  {
   "cell_type": "code",
   "execution_count": null,
   "id": "d848554d",
   "metadata": {},
   "outputs": [],
   "source": [
    "embeddings_array=[]\n",
    "embeddings_array.append(model_dict)"
   ]
  },
  {
   "cell_type": "code",
   "execution_count": null,
   "id": "62d3bcd5",
   "metadata": {},
   "outputs": [],
   "source": [
    "embeddings_array"
   ]
  },
  {
   "cell_type": "code",
   "execution_count": null,
   "id": "af6d582b",
   "metadata": {},
   "outputs": [],
   "source": [
    "import json\n",
    "with open(embeddings_index_file,'w') as json_file:\n",
    "    json.dump(embeddings_array_test, json_file, indent=4, separators=(',',': '))"
   ]
  },
  {
   "cell_type": "markdown",
   "id": "5ea26e1a",
   "metadata": {},
   "source": [
    "### Capturing one frame of video"
   ]
  },
  {
   "cell_type": "code",
   "execution_count": null,
   "id": "9e0ae6b8",
   "metadata": {},
   "outputs": [],
   "source": [
    "frame_number = 1\n",
    "cap = cv2.VideoCapture(video_file)\n",
    "cap.set(cv2.CAP_PROP_POS_FRAMES, frame_number-1)\n",
    "frame_exists, frame = cap.read()\n",
    "\n",
    "if frame_exists:\n",
    "    #plt.imshow(frame)\n",
    "    face_object = get_faces_from_img(frame)\n",
    "    embeddings = get_embedding_for_img(face_object[0][0][:,:,::-1])\n",
    "    print(embeddings)\n",
    "    plt.imshow(face_object[0][0][:,:,::-1])\n",
    "    print(len(face_object))\n",
    "    \n",
    "\n",
    "cap.release()\n",
    "cv2.destroyAllWindows()"
   ]
  },
  {
   "cell_type": "code",
   "execution_count": null,
   "id": "398b5d62",
   "metadata": {},
   "outputs": [],
   "source": []
  },
  {
   "cell_type": "code",
   "execution_count": null,
   "id": "091199cf",
   "metadata": {},
   "outputs": [],
   "source": [
    "frame = get_frame(video_file,2639)\n",
    "print('shape is', frame.shape)\n",
    "print('pixel at (60,21)',frame[60,21,:])\n",
    "print('pixel at (120,10)',frame[120,10,:])\n",
    "plt.imshow(frame)"
   ]
  },
  {
   "cell_type": "code",
   "execution_count": null,
   "id": "5880adbc",
   "metadata": {},
   "outputs": [],
   "source": []
  },
  {
   "cell_type": "code",
   "execution_count": null,
   "id": "4cf1671c",
   "metadata": {},
   "outputs": [],
   "source": [
    "fix_frame=cv2.cvtColor(frame,cv2.COLOR_BGR2RGB)\n",
    "print('pixel at (120,10)',fix_frame[120,10,:])\n",
    "plt.imshow(fix_frame)"
   ]
  },
  {
   "cell_type": "code",
   "execution_count": null,
   "id": "1d874ad2",
   "metadata": {},
   "outputs": [],
   "source": [
    "frames = 3647\n",
    "partitions = 7\n",
    "chunks = []\n",
    "chunk_size = round(frames/partitions)\n",
    "for i in range(partitions):\n",
    "    starting_frame = i*chunk_size\n",
    "    ending_frame = (starting_frame + chunk_size) - 1\n",
    "    if ending_frame > frames or partitions == 1:\n",
    "        ending_frame = frames\n",
    "    chunk = [starting_frame,ending_frame]\n",
    "    chunks.append(chunk)\n",
    "chunks"
   ]
  },
  {
   "cell_type": "code",
   "execution_count": null,
   "id": "c6d1c6e5",
   "metadata": {},
   "outputs": [],
   "source": [
    "for idx,chunk in enumerate(chunks):\n",
    "    \n",
    "    print(chunk)"
   ]
  },
  {
   "cell_type": "code",
   "execution_count": null,
   "id": "ec9e945e",
   "metadata": {},
   "outputs": [],
   "source": [
    "video_path = './datasets/videos/dream_scene.mp4'\n",
    "file_name = video_path.split(os.path.sep)[-1].split('.')[0] + '_1'\n",
    "file"
   ]
  },
  {
   "cell_type": "code",
   "execution_count": null,
   "id": "2579cbf8",
   "metadata": {},
   "outputs": [],
   "source": [
    "path = './models/embeddings/processed_videos/the_final_kick/the_final_kick_1.pickle'\n",
    "os.path.dirname(path)"
   ]
  },
  {
   "cell_type": "code",
   "execution_count": null,
   "id": "91f69c6b",
   "metadata": {},
   "outputs": [],
   "source": [
    "metadict = {\n",
    "    \"test\": \"hi\",\n",
    "    \"test_2\": \"nope\",\n",
    "    \"chunks\": []\n",
    "}\n",
    "\n",
    "dict1 = {\n",
    "    \"color\": \"red\",\n",
    "    \"size\": 1\n",
    "}\n",
    "\n",
    "dict2 = {\n",
    "    \"color\": \"blue\",\n",
    "    \"size\": 2\n",
    "}"
   ]
  },
  {
   "cell_type": "code",
   "execution_count": null,
   "id": "ceef484d",
   "metadata": {},
   "outputs": [],
   "source": [
    "array_dict = [dict1,dict2]"
   ]
  },
  {
   "cell_type": "code",
   "execution_count": null,
   "id": "961a2d51",
   "metadata": {},
   "outputs": [],
   "source": [
    "array_dict[1]"
   ]
  },
  {
   "cell_type": "code",
   "execution_count": null,
   "id": "a8a3656a",
   "metadata": {},
   "outputs": [],
   "source": [
    "metadict[\"chunks\"].append(dict2)"
   ]
  },
  {
   "cell_type": "code",
   "execution_count": null,
   "id": "ad6388b8",
   "metadata": {},
   "outputs": [],
   "source": [
    "metadict"
   ]
  },
  {
   "cell_type": "code",
   "execution_count": null,
   "id": "ff7371d6",
   "metadata": {},
   "outputs": [],
   "source": [
    "import uuid"
   ]
  },
  {
   "cell_type": "code",
   "execution_count": null,
   "id": "4f620a3c",
   "metadata": {},
   "outputs": [],
   "source": [
    "str(uuid.uuid4())[0:8]"
   ]
  },
  {
   "cell_type": "code",
   "execution_count": null,
   "id": "a9e6ff9a",
   "metadata": {},
   "outputs": [],
   "source": []
  },
  {
   "cell_type": "code",
   "execution_count": null,
   "id": "4ebc5752",
   "metadata": {},
   "outputs": [],
   "source": []
  }
 ],
 "metadata": {
  "kernelspec": {
   "display_name": "Python 3 (ipykernel)",
   "language": "python",
   "name": "python3"
  },
  "language_info": {
   "codemirror_mode": {
    "name": "ipython",
    "version": 3
   },
   "file_extension": ".py",
   "mimetype": "text/x-python",
   "name": "python",
   "nbconvert_exporter": "python",
   "pygments_lexer": "ipython3",
   "version": "3.7.10"
  },
  "vscode": {
   "interpreter": {
    "hash": "b0fa6594d8f4cbf19f97940f81e996739fb7646882a419484c72d19e05852a7e"
   }
  }
 },
 "nbformat": 4,
 "nbformat_minor": 5
}
