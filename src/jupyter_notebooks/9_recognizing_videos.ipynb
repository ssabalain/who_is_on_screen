{
 "cells": [
  {
   "cell_type": "markdown",
   "id": "62123797",
   "metadata": {},
   "source": [
    "## Recognizing videos\n",
    "\n",
    "In this notebook we will go through the application of our recognizer into some videos in order to get the recognition probabilities."
   ]
  },
  {
   "cell_type": "markdown",
   "id": "2f37ddbb",
   "metadata": {},
   "source": [
    "### Importing libraries"
   ]
  },
  {
   "cell_type": "code",
   "execution_count": null,
   "id": "04c94aed",
   "metadata": {},
   "outputs": [],
   "source": [
    "import sys\n",
    "import os\n",
    "import numpy as np\n",
    "sys.path.append('/opt/workspace/src/python_scripts/')\n",
    "from ops_face_recognition import get_probabilities_for_file,get_probabilities_for_folder\n",
    "script_name = os.path.basename(__name__)\n",
    "path_arr = os.getcwd().split(os.path.sep)\n",
    "os.chdir(os.path.sep.join(path_arr[:path_arr.index('src')+1]))"
   ]
  },
  {
   "cell_type": "markdown",
   "id": "674dba0c",
   "metadata": {},
   "source": [
    "### Getting probabilities for one pickle file\n",
    "\n",
    "We can get the predicitions from a pickle file by using the `get_probabilities_for_file` function"
   ]
  },
  {
   "cell_type": "code",
   "execution_count": null,
   "id": "4155739d",
   "metadata": {},
   "outputs": [],
   "source": [
    "pickle_file = './models/embeddings/processed_videos/dream_scene/133ed4eb-5cbb-43d5-a946-c7469b79fb6b/dream_scene_1.pickle'\n",
    "recognizer_folder = './models/recognizers'\n",
    "file_probs, recognizer_id = get_probabilities_for_file(pickle_file,recognizer_folder)\n",
    "print(recognizer_id)\n",
    "print(len(file_probs))\n",
    "print(type(file_probs))"
   ]
  },
  {
   "cell_type": "markdown",
   "id": "fa846143",
   "metadata": {},
   "source": [
    "### Getting probabilities from a video folder\n",
    "\n",
    "Get predictions for a whole video, including all its pickle files"
   ]
  },
  {
   "cell_type": "code",
   "execution_count": null,
   "id": "69ae8fb4",
   "metadata": {},
   "outputs": [],
   "source": [
    "folder_path = './models/embeddings/processed_videos/dream_scene'\n",
    "recognizer_folder = './models/recognizers'\n",
    "results_folder = './models/results'\n",
    "folder_probs, folders_probs_metadata = get_probabilities_for_folder(folder_path,recognizer_folder,save_to_pickle=True,output_folder = results_folder)"
   ]
  }
 ],
 "metadata": {
  "kernelspec": {
   "display_name": "Python 3 (ipykernel)",
   "language": "python",
   "name": "python3"
  },
  "language_info": {
   "codemirror_mode": {
    "name": "ipython",
    "version": 3
   },
   "file_extension": ".py",
   "mimetype": "text/x-python",
   "name": "python",
   "nbconvert_exporter": "python",
   "pygments_lexer": "ipython3",
   "version": "3.7.10"
  }
 },
 "nbformat": 4,
 "nbformat_minor": 5
}
