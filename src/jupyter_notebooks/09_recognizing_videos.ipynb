{
 "cells": [
  {
   "cell_type": "markdown",
   "id": "26c7a9fa",
   "metadata": {},
   "source": [
    "## Recognizing videos\n",
    "\n",
    "In this notebook we will go through the application of our recognizer into some videos in order to get the recognition probabilities."
   ]
  },
  {
   "cell_type": "markdown",
   "id": "12dd8517",
   "metadata": {},
   "source": [
    "### Importing libraries"
   ]
  },
  {
   "cell_type": "code",
   "execution_count": 2,
   "id": "e605a093",
   "metadata": {},
   "outputs": [
    {
     "name": "stdout",
     "output_type": "stream",
     "text": [
      "Installing packages...\n",
      "Packages installed.\n",
      "Installing packages...\n",
      "Packages installed.\n"
     ]
    }
   ],
   "source": [
    "import sys\n",
    "import os\n",
    "import json\n",
    "import numpy as np\n",
    "sys.path.append('/opt/workspace/src/python_scripts/')\n",
    "from ops_face_recognition import get_probabilities_for_file,get_probabilities_for_folder\n",
    "path_arr = os.getcwd().split(os.path.sep)\n",
    "os.chdir(os.path.sep.join(path_arr[:path_arr.index('src')+1]))"
   ]
  },
  {
   "cell_type": "markdown",
   "id": "6f287481",
   "metadata": {},
   "source": [
    "### Getting probabilities for one pickle file\n",
    "\n",
    "We can get the predicitions from a pickle file by using the `get_probabilities_for_file` function"
   ]
  },
  {
   "cell_type": "code",
   "execution_count": null,
   "id": "73e6234c",
   "metadata": {},
   "outputs": [],
   "source": [
    "pickle_file = './models/embeddings/processed_videos/dream_scene/133ed4eb-5cbb-43d5-a946-c7469b79fb6b/dream_scene_1.pickle'\n",
    "recognizer_folder = './models/recognizers'\n",
    "file_probs, recognizer_id = get_probabilities_for_file(\n",
    "    pickle_file,\n",
    "    recognizer_folder\n",
    ")\n",
    "\n",
    "print(f'Recognier_id used: {recognizer_id}\\n')\n",
    "print(f'Total frames analyzed: {len(file_probs)}\\n')\n",
    "print(f'First probability result:\\n')\n",
    "print(json.dumps(file_probs[0],indent=4))"
   ]
  },
  {
   "cell_type": "markdown",
   "id": "23a7846f",
   "metadata": {},
   "source": [
    "### Getting probabilities from a video folder\n",
    "\n",
    "Get predictions for a whole video, including all its pickle files"
   ]
  },
  {
   "cell_type": "code",
   "execution_count": 3,
   "id": "46f78f55",
   "metadata": {},
   "outputs": [],
   "source": [
    "processed_videos_path = './models/embeddings/processed_videos/the_final_kick'\n",
    "recognizer_folder = './models/recognizers'\n",
    "results_folder = './models/results'\n",
    "folder_probs, folders_probs_metadata = get_probabilities_for_folder(\n",
    "    folder_path = processed_videos_path,\n",
    "    recognizer_folder = recognizer_folder,\n",
    "    processed_video_id = '4bd4d823-eebb-4a43-9252-5ee852fdf915',\n",
    "    recognizer_id = 'a4940cbb-b315-4d2a-9a3e-acbfe576c994',\n",
    "    save_to_pickle=True,\n",
    "    output_folder = results_folder\n",
    ")"
   ]
  }
 ],
 "metadata": {
  "kernelspec": {
   "display_name": "Python 3 (ipykernel)",
   "language": "python",
   "name": "python3"
  },
  "language_info": {
   "codemirror_mode": {
    "name": "ipython",
    "version": 3
   },
   "file_extension": ".py",
   "mimetype": "text/x-python",
   "name": "python",
   "nbconvert_exporter": "python",
   "pygments_lexer": "ipython3",
   "version": "3.7.10"
  }
 },
 "nbformat": 4,
 "nbformat_minor": 5
}
