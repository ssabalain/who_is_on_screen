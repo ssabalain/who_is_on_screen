{
 "cells": [
  {
   "cell_type": "markdown",
   "id": "6b34aa86",
   "metadata": {},
   "source": [
    "## Analyzing a scene\n",
    "\n",
    "We are going to apply the different capabilities build in order to predict actors in a scene"
   ]
  },
  {
   "cell_type": "markdown",
   "id": "dbcaaf42",
   "metadata": {},
   "source": [
    "### Importing libraries"
   ]
  },
  {
   "cell_type": "code",
   "execution_count": null,
   "id": "87933781",
   "metadata": {},
   "outputs": [],
   "source": [
    "import sys\n",
    "import os\n",
    "import json\n",
    "import pandas as pd\n",
    "import numpy as np\n",
    "!pip install pandasql\n",
    "from pandasql import sqldf\n",
    "import matplotlib.pyplot as plt\n",
    "from time import time, strftime, localtime, gmtime\n",
    "sys.path.append('/opt/workspace/src/python_scripts/')\n",
    "from ops_face_recognition import train_recognizer,get_probabilities_for_folder\n",
    "from ops_files_operations import read_pickle_file, read_json_file, get_element_from_metadata\n",
    "from ops_face_detection import process_video, get_video_embeddings,get_frame_from_video, get_embeddings_from_image\n",
    "from ops_results_interpretation import get_frames_df, get_actors_probs_query, get_predicted_timeline, get_summarized_timeline"
   ]
  },
  {
   "cell_type": "markdown",
   "id": "e3344de0",
   "metadata": {},
   "source": [
    "### Creating best recognizers\n",
    "\n",
    "Based on the results obtained in Notebook \"10_training_models\""
   ]
  },
  {
   "cell_type": "code",
   "execution_count": null,
   "id": "dd5d367e",
   "metadata": {},
   "outputs": [],
   "source": [
    "embeddings_folder = './models/embeddings/actor_faces'\n",
    "recognizer_path = './models/recognizers'"
   ]
  },
  {
   "cell_type": "markdown",
   "id": "15c761d1",
   "metadata": {},
   "source": [
    "#### Linear recognizer"
   ]
  },
  {
   "cell_type": "code",
   "execution_count": null,
   "id": "5e333ecd",
   "metadata": {},
   "outputs": [],
   "source": [
    "train_recognizer(\n",
    "    embeddings_folder=embeddings_folder,\n",
    "    model_id = None,\n",
    "    C=1.0,\n",
    "    kernel='linear',\n",
    "    probability=True,\n",
    "    save_to_pickle=True,\n",
    "    output_folder=recognizer_path\n",
    ")"
   ]
  },
  {
   "cell_type": "markdown",
   "id": "67aba357",
   "metadata": {},
   "source": [
    "#### RBF recognizer"
   ]
  },
  {
   "cell_type": "code",
   "execution_count": null,
   "id": "d5eab850",
   "metadata": {},
   "outputs": [],
   "source": [
    "train_recognizer(\n",
    "    embeddings_folder=embeddings_folder,\n",
    "    model_id = None,\n",
    "    kernel='rbf',\n",
    "    C=1.0,\n",
    "    gamma=1.0,\n",
    "    probability=True,\n",
    "    save_to_pickle=True,\n",
    "    output_folder=recognizer_path\n",
    ")"
   ]
  },
  {
   "cell_type": "markdown",
   "id": "4b32f8e8",
   "metadata": {},
   "source": [
    "#### Poly recognizer"
   ]
  },
  {
   "cell_type": "code",
   "execution_count": null,
   "id": "ebc0d00f",
   "metadata": {},
   "outputs": [],
   "source": [
    "train_recognizer(\n",
    "    embeddings_folder=embeddings_folder,\n",
    "    model_id = None,\n",
    "    kernel='poly',\n",
    "    C=1.0,\n",
    "    degree=3,\n",
    "    probability=True,\n",
    "    save_to_pickle=True,\n",
    "    output_folder=recognizer_path\n",
    ")"
   ]
  },
  {
   "cell_type": "markdown",
   "id": "ef32b15b",
   "metadata": {},
   "source": [
    "#### Getting recognizers ids"
   ]
  },
  {
   "cell_type": "code",
   "execution_count": null,
   "id": "c77db9e6",
   "metadata": {},
   "outputs": [],
   "source": [
    "recognizers_metadata_path = './models/recognizers/recognizer_metadata.json'\n",
    "linear_recognizer_id = get_element_from_metadata(\n",
    "    metadata_file_path=recognizers_metadata_path,\n",
    "    key='kernel',\n",
    "    value='linear',\n",
    "    latest=True\n",
    ")[\"recognizer_id\"]\n",
    "rbf_recognizer_id = get_element_from_metadata(\n",
    "    metadata_file_path=recognizers_metadata_path,\n",
    "    key='kernel',\n",
    "    value='rbf',\n",
    "    latest=True\n",
    ")[\"recognizer_id\"]\n",
    "poly_recognizer_id = get_element_from_metadata(\n",
    "    metadata_file_path=recognizers_metadata_path,\n",
    "    key='kernel',\n",
    "    value='poly',\n",
    "    latest=True\n",
    ")[\"recognizer_id\"]\n",
    "print(f'Linear = {linear_recognizer_id}, rbf = {rbf_recognizer_id}, poly = {poly_recognizer_id}.')"
   ]
  },
  {
   "cell_type": "markdown",
   "id": "f67d5f8b",
   "metadata": {},
   "source": [
    "### Processing a scene"
   ]
  },
  {
   "cell_type": "markdown",
   "id": "4a2990b2",
   "metadata": {},
   "source": [
    "#### Obtaining scene embeddings"
   ]
  },
  {
   "cell_type": "code",
   "execution_count": null,
   "id": "7627dfbd",
   "metadata": {},
   "outputs": [],
   "source": [
    "scene_path = './datasets/videos/the_final_kick.mp4'\n",
    "output_path = './models/embeddings/processed_videos'\n",
    "get_video_embeddings(\n",
    "    video_path = scene_path,\n",
    "    results_path = output_path,\n",
    "    partitions=4, \n",
    "    desired_fps=4\n",
    ")"
   ]
  },
  {
   "cell_type": "markdown",
   "id": "6525b8bd",
   "metadata": {},
   "source": [
    "#### Getting embeddings \"processed_video_id\""
   ]
  },
  {
   "cell_type": "code",
   "execution_count": null,
   "id": "ecef9ca0",
   "metadata": {},
   "outputs": [],
   "source": [
    "probs_metadata_path = './models/embeddings/processed_videos/the_final_kick/processed_videos_metadata.json'\n",
    "processed_video_id = get_element_from_metadata(\n",
    "    metadata_file_path=probs_metadata_path,\n",
    "    latest=True\n",
    ")[\"processed_video_id\"]\n",
    "print(f'Processed video id = {processed_video_id}.')"
   ]
  },
  {
   "cell_type": "markdown",
   "id": "1587b49e",
   "metadata": {},
   "source": [
    "#### Predicting results for that scene"
   ]
  },
  {
   "cell_type": "code",
   "execution_count": null,
   "id": "96183526",
   "metadata": {},
   "outputs": [],
   "source": [
    "scene_embeddings_path = './models/embeddings/processed_videos/the_final_kick'\n",
    "results_folder = './models/results'\n",
    "folder_probabilities, folder_probabilities_metadata = get_probabilities_for_folder(\n",
    "    folder_path = scene_embeddings_path,\n",
    "    recognizer_folder = recognizer_path,\n",
    "    save_to_pickle = True,\n",
    "    output_folder = results_folder,\n",
    "    processed_video_id = processed_video_id,\n",
    "    recognizer_id = linear_recognizer_id\n",
    ")"
   ]
  },
  {
   "cell_type": "code",
   "execution_count": null,
   "id": "6f8fa663",
   "metadata": {},
   "outputs": [],
   "source": [
    "results_id = folder_probabilities_metadata['results_id']\n",
    "results_id"
   ]
  },
  {
   "cell_type": "markdown",
   "id": "cdbca6dc",
   "metadata": {},
   "source": [
    "### Understanding results for one actor\n",
    "\n",
    "The following is a walkthrough around the process to determine wether an actor is present or not in a specific timestamp of a video"
   ]
  },
  {
   "cell_type": "markdown",
   "id": "4ad0a05f",
   "metadata": {},
   "source": [
    "#### Getting results dict"
   ]
  },
  {
   "cell_type": "code",
   "execution_count": null,
   "id": "da872432",
   "metadata": {},
   "outputs": [],
   "source": [
    "results_metadata_path = './models/results/probabilities_metadata.json'\n",
    "processed_videos_metadata_path = './models/embeddings/processed_videos/the_final_kick/processed_videos_metadata.json'\n",
    "recognizer_metadata_path = './models/recognizers/recognizer_metadata.json'\n",
    "\n",
    "results_metadata = get_element_from_metadata(\n",
    "    metadata_file_path=results_metadata_path,\n",
    "    #key = 'results_id',\n",
    "    #value = results_id,\n",
    "    latest=True\n",
    ")\n",
    "pickle_path = results_metadata['pickle_path']\n",
    "results = read_pickle_file(pickle_path)\n",
    "\n",
    "processed_videos_metadata = get_element_from_metadata(\n",
    "    metadata_file_path=processed_videos_metadata_path,\n",
    "    key = 'processed_video_id',\n",
    "    value = results_metadata['processed_video_id']\n",
    ")\n",
    "recognizer_metadata = get_element_from_metadata(\n",
    "    metadata_file_path=recognizer_metadata_path,\n",
    "    key = 'recognizer_id',\n",
    "    value = results_metadata['recognizer_id']\n",
    ")"
   ]
  },
  {
   "cell_type": "markdown",
   "id": "a696fc42",
   "metadata": {},
   "source": [
    "This is how the results are stored:"
   ]
  },
  {
   "cell_type": "code",
   "execution_count": null,
   "id": "d8383cbe",
   "metadata": {},
   "outputs": [],
   "source": [
    "results[0][\"probabilities\"][0:2]"
   ]
  },
  {
   "cell_type": "markdown",
   "id": "9a91faaf",
   "metadata": {},
   "source": [
    "#### Transforming dict into pd dataframe"
   ]
  },
  {
   "cell_type": "code",
   "execution_count": null,
   "id": "0bebb11e",
   "metadata": {},
   "outputs": [],
   "source": [
    "full_probs = []\n",
    "for chunk in results:\n",
    "    for preds in chunk[\"probabilities\"]:\n",
    "        preds_dict= {}\n",
    "        preds_dict[\"frame_number\"] = preds[\"frame_number\"]\n",
    "        preds_dict[\"timestamp\"] = preds[\"timestamp\"]\n",
    "        preds_dict[\"pred_1_name\"] = sorted(preds[\"predictions\"][0], key=preds[\"predictions\"][0].get, reverse=True)[0]\n",
    "        preds_dict[\"pred_1_value\"] = preds[\"predictions\"][0][preds_dict[\"pred_1_name\"]]\n",
    "        preds_dict[\"pred_2_name\"] = sorted(preds[\"predictions\"][0], key=preds[\"predictions\"][0].get, reverse=True)[1]\n",
    "        preds_dict[\"pred_2_value\"] = preds[\"predictions\"][0][preds_dict[\"pred_2_name\"]]\n",
    "        preds_dict[\"pred_3_name\"] = sorted(preds[\"predictions\"][0], key=preds[\"predictions\"][0].get, reverse=True)[2]\n",
    "        preds_dict[\"pred_3_value\"] = preds[\"predictions\"][0][preds_dict[\"pred_3_name\"]]\n",
    "        preds_dict[\"pred_4_name\"] = sorted(preds[\"predictions\"][0], key=preds[\"predictions\"][0].get, reverse=True)[3]\n",
    "        preds_dict[\"pred_4_value\"] = preds[\"predictions\"][0][preds_dict[\"pred_4_name\"]]\n",
    "        preds_dict[\"pred_5_name\"] = sorted(preds[\"predictions\"][0], key=preds[\"predictions\"][0].get, reverse=True)[4]\n",
    "        preds_dict[\"pred_5_value\"] = preds[\"predictions\"][0][preds_dict[\"pred_5_name\"]]\n",
    "        preds_dict[\"pred_6_name\"] = sorted(preds[\"predictions\"][0], key=preds[\"predictions\"][0].get, reverse=True)[5]\n",
    "        preds_dict[\"pred_6_value\"] = preds[\"predictions\"][0][preds_dict[\"pred_6_name\"]]\n",
    "        preds_dict[\"pred_7_name\"] = sorted(preds[\"predictions\"][0], key=preds[\"predictions\"][0].get, reverse=True)[6]\n",
    "        preds_dict[\"pred_7_value\"] = preds[\"predictions\"][0][preds_dict[\"pred_7_name\"]]\n",
    "        preds_dict[\"pred_8_name\"] = sorted(preds[\"predictions\"][0], key=preds[\"predictions\"][0].get, reverse=True)[7]\n",
    "        preds_dict[\"pred_8_value\"] = preds[\"predictions\"][0][preds_dict[\"pred_8_name\"]]\n",
    "        preds_dict[\"pred_9_name\"] = sorted(preds[\"predictions\"][0], key=preds[\"predictions\"][0].get, reverse=True)[8]\n",
    "        preds_dict[\"pred_9_value\"] = preds[\"predictions\"][0][preds_dict[\"pred_9_name\"]]\n",
    "        preds_dict[\"pred_10_name\"] = sorted(preds[\"predictions\"][0], key=preds[\"predictions\"][0].get, reverse=True)[9]\n",
    "        preds_dict[\"pred_10_value\"] = preds[\"predictions\"][0][preds_dict[\"pred_10_name\"]]\n",
    "        full_probs.append(preds_dict)\n",
    "\n",
    "results_df = pd.DataFrame(full_probs)"
   ]
  },
  {
   "cell_type": "code",
   "execution_count": null,
   "id": "2dde6e47",
   "metadata": {},
   "outputs": [],
   "source": [
    "results_df[0:2]"
   ]
  },
  {
   "cell_type": "markdown",
   "id": "e58d5242",
   "metadata": {},
   "source": [
    "#### Generating frames for the processed video"
   ]
  },
  {
   "cell_type": "code",
   "execution_count": null,
   "id": "037ecd67",
   "metadata": {},
   "outputs": [],
   "source": [
    "frames_df = get_frames_df(processed_videos_metadata)\n",
    "frames_df"
   ]
  },
  {
   "cell_type": "markdown",
   "id": "7395c299",
   "metadata": {},
   "source": [
    "#### Getting probs by frame for a single actor"
   ]
  },
  {
   "cell_type": "code",
   "execution_count": null,
   "id": "e55fea30",
   "metadata": {},
   "outputs": [],
   "source": [
    "actor = '2037_cillian_murphy'\n",
    "preds_dfs = []\n",
    "\n",
    "for its in range(10):\n",
    "    preds_dfs.append(sqldf((\"\"\"    \n",
    "        select\n",
    "            frame_number,\n",
    "            coalesce(pred_{0}_value,0) as pred_{0}_value\n",
    "\n",
    "        from frames_df\n",
    "        left join results_df using(frame_number)\n",
    "        where \n",
    "          (pred_{0}_name like '%{1}%' or pred_{0}_name is null)\n",
    "    \"\"\").format(its+1,actor)))\n",
    "\n",
    "q1 = (\"\"\"    \n",
    "    select\n",
    "        frame_number,\n",
    "        coalesce(pred_1_value,0) as pred_1_value\n",
    "        \n",
    "    from frames_df\n",
    "    left join results_df using(frame_number)\n",
    "    where \n",
    "      (pred_1_name like '%{0}%' or pred_1_name is null)\n",
    "\"\"\").format(actor)\n",
    "\n",
    "q2 = (\"\"\"    \n",
    "    select\n",
    "        frame_number,\n",
    "        coalesce(pred_2_value,0) as pred_2_value\n",
    "        \n",
    "    from frames_df\n",
    "    left join results_df using(frame_number)\n",
    "    where \n",
    "      (pred_2_name like '%{0}%' or pred_2_name is null)\n",
    "\"\"\").format(actor)\n",
    "\n",
    "q3 = get_actors_probs_query(actor)\n",
    "\n",
    "actor_pred1 = sqldf(q1,globals())\n",
    "actor_pred2 = sqldf(q2, globals())\n",
    "actor_pred = sqldf(q3,globals())"
   ]
  },
  {
   "cell_type": "markdown",
   "id": "c7f941ac",
   "metadata": {},
   "source": [
    "#### Plotting the results"
   ]
  },
  {
   "cell_type": "code",
   "execution_count": null,
   "id": "a771052a",
   "metadata": {},
   "outputs": [],
   "source": [
    "size = 7\n",
    "f = plt.figure()\n",
    "f.set_figwidth(15)\n",
    "f.set_figheight(5)\n",
    "plt.plot(actor_pred1['frame_number'], actor_pred1['pred_1_value'], label = \"pred 1\")#, s = size)\n",
    "plt.plot(actor_pred2['frame_number'], actor_pred2['pred_2_value'], label = \"pred 2\")#, s = size)\n",
    "#plt.plot(actor_pred['frame_number'], actor_pred['pred_value'], label = \"overall pred\")\n",
    "#plt.xlim(400, 500) \n",
    "plt.xlim(900,1500) \n",
    "#plt.xlim(2050, 2100)\n",
    "plt.legend()"
   ]
  },
  {
   "cell_type": "code",
   "execution_count": null,
   "id": "d7a7196b",
   "metadata": {},
   "outputs": [],
   "source": [
    "size = 30\n",
    "f = plt.figure()\n",
    "f.set_figwidth(15)\n",
    "f.set_figheight(5)\n",
    "all_poss=['o','*','s','v','^','>','<','p','h','H','D','d','.','1','','']\n",
    "\n",
    "allowed_preds = range(2)\n",
    "plot_zone_limites = False\n",
    "plot_vertical_zone_limits = False\n",
    "plot_general_pred = True\n",
    "plot_delimited_zones = True\n",
    "plot_zone_metrics = True\n",
    "\n",
    "for idx,dfs in enumerate(preds_dfs):\n",
    "    if idx not in allowed_preds:\n",
    "        break\n",
    "    \n",
    "    filtered_df = dfs[dfs[f'pred_{str(idx+1)}_value']!= 0]\n",
    "    plt.scatter(\n",
    "        filtered_df['frame_number'],\n",
    "        filtered_df[f'pred_{str(idx+1)}_value'],\n",
    "        label = f\"Predicted as #{str(idx+1)}\",\n",
    "        marker=all_poss[idx],\n",
    "        s = size)\n",
    "    \n",
    "    if plot_zone_limites: \n",
    "        for index, row in filtered_df.iterrows():\n",
    "            plt.hlines(\n",
    "                y=row[f'pred_{str(idx+1)}_value'],\n",
    "                xmin=row['frame_number']-12,\n",
    "                xmax=row['frame_number']+12,\n",
    "                linewidth=1,\n",
    "                color='gray'\n",
    "            )\n",
    "            if plot_vertical_zone_limits:\n",
    "                plt.vlines(\n",
    "                    x=row['frame_number']-12,\n",
    "                    ymin=0,\n",
    "                    ymax=0.53,\n",
    "                    linewidth=1,\n",
    "                    color='gray',\n",
    "                    linestyle = 'dotted'\n",
    "                )\n",
    "                plt.vlines(\n",
    "                    x=row['frame_number']+12,\n",
    "                    ymin=0,\n",
    "                    ymax=0.55,\n",
    "                    linewidth=1,\n",
    "                    color='gray',\n",
    "                    linestyle = 'dotted'\n",
    "                )\n",
    "\n",
    "\n",
    "if plot_general_pred:\n",
    "    plt.plot(\n",
    "        actor_pred['frame_number'],\n",
    "        actor_pred['pred_value'],\n",
    "        label = \"overall pred\",\n",
    "        color = 'gray',\n",
    "        linestyle = 'dotted'\n",
    "    )\n",
    "\n",
    "if plot_delimited_zones:\n",
    "    plt.text(\n",
    "        1080,\n",
    "        0.05,\n",
    "        'Zone A',\n",
    "        style='italic',\n",
    "        bbox={\n",
    "            'facecolor': 'white',\n",
    "            'alpha': 0.9,\n",
    "            'pad': 5\n",
    "        })\n",
    "\n",
    "    plt.fill_between(\n",
    "            x= actor_pred['frame_number'], \n",
    "            y1= actor_pred['pred_value'], \n",
    "            where= (1000 < actor_pred['frame_number'])&(actor_pred['frame_number'] < 1200),\n",
    "            hatch=\"//\",\n",
    "            color= \"green\",\n",
    "            alpha= 0.2)\n",
    "    \n",
    "    plt.text(\n",
    "        1357,\n",
    "        0.05,\n",
    "        'Zone B',\n",
    "        style='italic',\n",
    "        bbox={\n",
    "            'facecolor': 'white',\n",
    "            'alpha': 0.9,\n",
    "            'pad': 5\n",
    "        })\n",
    "\n",
    "    plt.fill_between(\n",
    "            x= actor_pred['frame_number'], \n",
    "            y1= actor_pred['pred_value'], \n",
    "            where= (1300 < actor_pred['frame_number'])&(actor_pred['frame_number'] < 1400),\n",
    "            hatch=\"//\",\n",
    "            color= \"blue\",\n",
    "            alpha= 0.2)\n",
    "    \n",
    "if plot_zone_metrics:\n",
    "    plt.hlines(\n",
    "        y=0.1,\n",
    "        xmin=1020,\n",
    "        xmax=1164,\n",
    "        linewidth=2,\n",
    "        color='red'\n",
    "    )\n",
    "\n",
    "    plt.text(\n",
    "        1072,\n",
    "        0.12,\n",
    "        'Length: 37',\n",
    "        fontsize = 10,\n",
    "        color = 'white',\n",
    "        bbox={\n",
    "            'facecolor': 'red',\n",
    "            'alpha': 1,\n",
    "            'pad': 5\n",
    "        })\n",
    "\n",
    "    plt.annotate(\n",
    "        'Max value: 51,1%',\n",
    "        xy=(1044, 0.511),\n",
    "        xytext=(970, 0.45),\n",
    "        fontsize=10,\n",
    "        color='white',\n",
    "        bbox={\n",
    "            'facecolor': 'red',\n",
    "            'alpha': 1,\n",
    "            'pad': 5\n",
    "        },\n",
    "        arrowprops=dict(\n",
    "            facecolor='red',\n",
    "            shrink=0.04\n",
    "        ))\n",
    "    \n",
    "    plt.text(\n",
    "        1072,\n",
    "        0.25,\n",
    "        'Sum: 15.0',\n",
    "        fontsize = 10,\n",
    "        color = 'white',\n",
    "        bbox={\n",
    "            'facecolor': 'red',\n",
    "            'alpha': 1,\n",
    "            'pad': 5\n",
    "        })\n",
    "    \n",
    "    plt.hlines(\n",
    "        y=0.1,\n",
    "        xmin=1356,\n",
    "        xmax=1380,\n",
    "        linewidth=2,\n",
    "        color='red'\n",
    "    )\n",
    "    \n",
    "    plt.text(\n",
    "        1357,\n",
    "        0.115,\n",
    "        'Length: 7',\n",
    "        fontsize = 8,\n",
    "        color='white',\n",
    "        bbox={\n",
    "            'facecolor': 'red',\n",
    "            'alpha': 1,\n",
    "            'pad': 2\n",
    "        })\n",
    "    \n",
    "    plt.text(\n",
    "        1357,\n",
    "        0.15,\n",
    "        'Sum: 1.85',\n",
    "        fontsize = 8,\n",
    "        color = 'white',\n",
    "        bbox={\n",
    "            'facecolor': 'red',\n",
    "            'alpha': 1,\n",
    "            'pad': 2\n",
    "        })\n",
    "    \n",
    "    plt.annotate(\n",
    "        'Max value: 32,2%',\n",
    "        xy=(1368, 0.322),\n",
    "        xytext=(1280, 0.25),\n",
    "        fontsize=8,\n",
    "        color='white',\n",
    "        bbox={\n",
    "            'facecolor': 'red',\n",
    "            'alpha': 1,\n",
    "            'pad': 5\n",
    "        },\n",
    "        arrowprops=dict(\n",
    "            facecolor='red',\n",
    "            shrink=0.04\n",
    "        ))\n",
    "    \n",
    "plt.xlim(950,1450) \n",
    "plt.legend(loc='upper right')\n",
    "plt.xlabel(\"Frame number\")\n",
    "plt.ylabel(\"Probability\")"
   ]
  },
  {
   "cell_type": "markdown",
   "id": "8b53aa6e",
   "metadata": {},
   "source": [
    "#### Checking a specific frame/timestamp"
   ]
  },
  {
   "cell_type": "code",
   "execution_count": null,
   "id": "9c364b9f",
   "metadata": {},
   "outputs": [],
   "source": [
    "scene_path = './datasets/videos/the_final_kick.mp4'\n",
    "frame = get_frame_from_video(video_path = scene_path,frame_number = 1050)#timestamp = '00:00:12.000')\n",
    "embs, embs_metadata = get_embeddings_from_image(provided_image=frame, multiple_faces=True, display=True)"
   ]
  },
  {
   "cell_type": "markdown",
   "id": "1f1b0048",
   "metadata": {},
   "source": [
    "### Understanding results for all actors in a video"
   ]
  },
  {
   "cell_type": "code",
   "execution_count": null,
   "id": "bf64a8e3",
   "metadata": {},
   "outputs": [],
   "source": [
    "results_id = results_metadata['results_id']\n",
    "predicted_tl = get_predicted_timeline(results_id,avoid_nulls = False, only_boundaries = False)\n",
    "summarized_timeline = get_summarized_timeline(results_id)"
   ]
  },
  {
   "cell_type": "code",
   "execution_count": null,
   "id": "a4e3a2b0",
   "metadata": {},
   "outputs": [],
   "source": [
    "summarized_timeline[0:8]"
   ]
  },
  {
   "cell_type": "code",
   "execution_count": null,
   "id": "3d8974bc",
   "metadata": {},
   "outputs": [],
   "source": [
    "predicted_tl"
   ]
  },
  {
   "cell_type": "code",
   "execution_count": null,
   "id": "8cef8637",
   "metadata": {},
   "outputs": [],
   "source": [
    "length_threshold = 12\n",
    "sum_pred_value_threshold = 4\n",
    "max_pred_value_threshold = 0.6\n",
    "\n",
    "final_timeline = sqldf(\"\"\"\n",
    "    select\n",
    "        predicted_tl.actor,\n",
    "        frame_number,\n",
    "        timestamp,\n",
    "        \n",
    "        length,\n",
    "        max_pred_value,\n",
    "        sum_pred_value,\n",
    "        \n",
    "        case\n",
    "            when length >= {0} or sum_pred_value >= {1} or max_pred_value >= {2} then pred_value\n",
    "            else 0\n",
    "        end as pred_value\n",
    "        \n",
    "    from predicted_tl \n",
    "    left join summarized_timeline on predicted_tl.actor = summarized_timeline.actor\n",
    "        and predicted_tl.frame_number between summarized_timeline.frame_number_from and summarized_timeline.frame_number_to\n",
    "\n",
    "\"\"\".format(length_threshold,sum_pred_value_threshold,max_pred_value_threshold))\n",
    "\n",
    "f = plt.figure()\n",
    "f.set_figwidth(15)\n",
    "f.set_figheight(5)\n",
    "\n",
    "for actor in pd.unique(final_timeline['actor']):\n",
    "    plt.plot(final_timeline[final_timeline['actor'] == actor]['frame_number'], final_timeline[final_timeline['actor'] == actor]['pred_value'], label = actor)\n",
    "#plt.xlim(400, 700) \n",
    "#plt.xlim(1000, 1200) \n",
    "#plt.xlim(1330, 1390)\n",
    "#plt.xlim(300, 3000)\n",
    "plt.legend()"
   ]
  },
  {
   "cell_type": "code",
   "execution_count": null,
   "id": "a8a90072",
   "metadata": {},
   "outputs": [],
   "source": []
  }
 ],
 "metadata": {
  "kernelspec": {
   "display_name": "Python 3 (ipykernel)",
   "language": "python",
   "name": "python3"
  },
  "language_info": {
   "codemirror_mode": {
    "name": "ipython",
    "version": 3
   },
   "file_extension": ".py",
   "mimetype": "text/x-python",
   "name": "python",
   "nbconvert_exporter": "python",
   "pygments_lexer": "ipython3",
   "version": "3.7.10"
  }
 },
 "nbformat": 4,
 "nbformat_minor": 5
}
