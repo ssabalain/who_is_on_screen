{
 "cells": [
  {
   "cell_type": "markdown",
   "id": "89b77e60",
   "metadata": {},
   "source": [
    "## Analyzing a scene\n",
    "\n",
    "We are going to apply the different capabilities build in order to predict actors in a scene"
   ]
  },
  {
   "cell_type": "markdown",
   "id": "c37f5c25",
   "metadata": {},
   "source": [
    "### Importing libraries"
   ]
  },
  {
   "cell_type": "code",
   "execution_count": null,
   "id": "5cfceb60",
   "metadata": {},
   "outputs": [],
   "source": [
    "import sys\n",
    "import os\n",
    "import json\n",
    "import pandas as pd\n",
    "import numpy as np\n",
    "!pip install pandasql\n",
    "from pandasql import sqldf\n",
    "sys.path.append('/opt/workspace/src/python_scripts/')\n",
    "from ops_face_recognition import train_recognizer,get_probabilities_for_folder\n",
    "from ops_files_operations import read_pickle_file, read_json_file, get_element_from_metadata\n",
    "from ops_face_detection import process_video, get_video_embeddings,get_frame_from_video, get_embeddings_from_image"
   ]
  },
  {
   "cell_type": "markdown",
   "id": "0b867e7d",
   "metadata": {},
   "source": [
    "### Creating best recognizers\n",
    "\n",
    "Bases on the results obtained in Notebook \"10_training_models\""
   ]
  },
  {
   "cell_type": "code",
   "execution_count": null,
   "id": "9aa3a17d",
   "metadata": {},
   "outputs": [],
   "source": [
    "embeddings_folder = './models/embeddings/actor_faces'\n",
    "recognizer_path = './models/recognizers'"
   ]
  },
  {
   "cell_type": "markdown",
   "id": "b79aacdf",
   "metadata": {},
   "source": [
    "#### Linear recognizer"
   ]
  },
  {
   "cell_type": "code",
   "execution_count": null,
   "id": "a21835f5",
   "metadata": {},
   "outputs": [],
   "source": [
    "train_recognizer(\n",
    "    embeddings_folder=embeddings_folder,\n",
    "    model_id = None,\n",
    "    C=1.0,\n",
    "    kernel='linear',\n",
    "    probability=True,\n",
    "    save_to_pickle=True,\n",
    "    output_folder=recognizer_path\n",
    ")"
   ]
  },
  {
   "cell_type": "markdown",
   "id": "9cf0e13d",
   "metadata": {},
   "source": [
    "#### RBF recognizer"
   ]
  },
  {
   "cell_type": "code",
   "execution_count": null,
   "id": "174ad446",
   "metadata": {},
   "outputs": [],
   "source": [
    "train_recognizer(\n",
    "    embeddings_folder=embeddings_folder,\n",
    "    model_id = None,\n",
    "    kernel='rbf',\n",
    "    C=1.0,\n",
    "    gamma=1.0,\n",
    "    probability=True,\n",
    "    save_to_pickle=True,\n",
    "    output_folder=recognizer_path\n",
    ")"
   ]
  },
  {
   "cell_type": "markdown",
   "id": "6c182fc4",
   "metadata": {},
   "source": [
    "#### Poly recognizer"
   ]
  },
  {
   "cell_type": "code",
   "execution_count": null,
   "id": "712e2866",
   "metadata": {},
   "outputs": [],
   "source": [
    "train_recognizer(\n",
    "    embeddings_folder=embeddings_folder,\n",
    "    model_id = None,\n",
    "    kernel='poly',\n",
    "    C=1.0,\n",
    "    degree=3,\n",
    "    probability=True,\n",
    "    save_to_pickle=True,\n",
    "    output_folder=recognizer_path\n",
    ")"
   ]
  },
  {
   "cell_type": "markdown",
   "id": "2215bc11",
   "metadata": {},
   "source": [
    "#### Getting recognizers ids"
   ]
  },
  {
   "cell_type": "code",
   "execution_count": null,
   "id": "a528f879",
   "metadata": {},
   "outputs": [],
   "source": [
    "recognizers_metadata_path = './models/recognizers/recognizer_metadata.json'\n",
    "linear_recognizer_id = get_element_from_metadata(\n",
    "    metadata_file_path=recognizers_metadata_path,\n",
    "    key='kernel',\n",
    "    value='linear',\n",
    "    latest=True\n",
    ")[\"recognizer_id\"]\n",
    "rbf_recognizer_id = get_element_from_metadata(\n",
    "    metadata_file_path=recognizers_metadata_path,\n",
    "    key='kernel',\n",
    "    value='rbf',\n",
    "    latest=True\n",
    ")[\"recognizer_id\"]\n",
    "poly_recognizer_id = get_element_from_metadata(\n",
    "    metadata_file_path=recognizers_metadata_path,\n",
    "    key='kernel',\n",
    "    value='poly',\n",
    "    latest=True\n",
    ")[\"recognizer_id\"]\n",
    "print(f'Linear = {linear_recognizer_id}, rbf = {rbf_recognizer_id}, poly = {poly_recognizer_id}.')"
   ]
  },
  {
   "cell_type": "markdown",
   "id": "dd3814ce",
   "metadata": {},
   "source": [
    "### Processing a scene"
   ]
  },
  {
   "cell_type": "markdown",
   "id": "cc51c658",
   "metadata": {},
   "source": [
    "#### Obtaining scene embeddings"
   ]
  },
  {
   "cell_type": "code",
   "execution_count": null,
   "id": "60d8f75e",
   "metadata": {},
   "outputs": [],
   "source": [
    "scene_path = './datasets/videos/the_final_kick.mp4'\n",
    "output_path = './models/embeddings/processed_videos'\n",
    "get_video_embeddings(\n",
    "    video_path = scene_path,\n",
    "    results_path = output_path,\n",
    "    partitions=4, \n",
    "    desired_fps=4\n",
    ")"
   ]
  },
  {
   "cell_type": "markdown",
   "id": "a0e2ebe3",
   "metadata": {},
   "source": [
    "#### Getting embeddings \"processed_video_id\""
   ]
  },
  {
   "cell_type": "code",
   "execution_count": null,
   "id": "8c1b32f9",
   "metadata": {},
   "outputs": [],
   "source": [
    "probs_metadata_path = './models/embeddings/processed_videos/the_final_kick/processed_videos_metadata.json'\n",
    "processed_video_id = get_element_from_metadata(\n",
    "    metadata_file_path=probs_metadata_path,\n",
    "    latest=True\n",
    ")[\"processed_video_id\"]\n",
    "print(f'Processed video id = {processed_video_id}.')"
   ]
  },
  {
   "cell_type": "markdown",
   "id": "327c5736",
   "metadata": {},
   "source": [
    "#### Predicting results for that scene"
   ]
  },
  {
   "cell_type": "code",
   "execution_count": null,
   "id": "cdfd8412",
   "metadata": {},
   "outputs": [],
   "source": [
    "scene_embeddings_path = './models/embeddings/processed_videos/the_final_kick'\n",
    "results_folder = './models/results'\n",
    "folder_probabilities, folder_probabilities_metadata = get_probabilities_for_folder(\n",
    "    folder_path = scene_embeddings_path,\n",
    "    recognizer_folder = recognizer_path,\n",
    "    save_to_pickle = True,\n",
    "    output_folder = results_folder,\n",
    "    processed_video_id = processed_video_id,\n",
    "    recognizer_id = linear_recognizer_id\n",
    ")"
   ]
  },
  {
   "cell_type": "code",
   "execution_count": null,
   "id": "036ae9d9",
   "metadata": {},
   "outputs": [],
   "source": [
    "results_id = folder_probabilities_metadata['results_id']\n",
    "results_id"
   ]
  },
  {
   "cell_type": "markdown",
   "id": "5fe5f2ab",
   "metadata": {},
   "source": [
    "### Understanding results"
   ]
  },
  {
   "cell_type": "markdown",
   "id": "e087bdb8",
   "metadata": {},
   "source": [
    "#### Getting results dict"
   ]
  },
  {
   "cell_type": "code",
   "execution_count": 2,
   "id": "2a99cd06",
   "metadata": {},
   "outputs": [],
   "source": [
    "results_metadata_path = './models/results/probabilities_metadata.json'\n",
    "results_metadata = get_element_from_metadata(\n",
    "    metadata_file_path=results_metadata_path,\n",
    "    #key = 'results_id',\n",
    "    #value = results_id,\n",
    "    latest=True\n",
    ")\n",
    "pickle_path = results_metadata['pickle_path']\n",
    "results = read_pickle_file(pickle_path)"
   ]
  },
  {
   "cell_type": "code",
   "execution_count": 9,
   "id": "952dabe6",
   "metadata": {},
   "outputs": [
    {
     "data": {
      "text/plain": [
       "{'frame_number': '474',\n",
       " 'timestamp': '00:00:19.770',\n",
       " 'predictions': [{'2037_cillian_murphy': 0.5326179425375231,\n",
       "   '6193_leonardo_dicaprio': 0.1221048560387834,\n",
       "   '2524_tom_hardy': 0.06128185310235346,\n",
       "   '526_lukas_haas': 0.055021633167948704,\n",
       "   '3899_ken_watanabe': 0.05138065273911555,\n",
       "   '13022_tom_berenger': 0.049764110754460696,\n",
       "   '4935_pete_postlethwaite': 0.035297353536172714,\n",
       "   '95697_dileep_rao': 0.028151471865901546,\n",
       "   '3895_michael_caine': 0.023959367287635286,\n",
       "   '8293_marion_cotillard': 0.015659827217873526,\n",
       "   '27578_elliot_page': 0.014380513071059482,\n",
       "   '24045_joseph_gordon-levitt': 0.010380418681172843}]}"
      ]
     },
     "execution_count": 9,
     "metadata": {},
     "output_type": "execute_result"
    }
   ],
   "source": [
    "results[0][\"probabilities\"][15]"
   ]
  },
  {
   "cell_type": "markdown",
   "id": "6c576f38",
   "metadata": {},
   "source": [
    "#### Transforming dict into pd dataframe"
   ]
  },
  {
   "cell_type": "code",
   "execution_count": null,
   "id": "ffb207de",
   "metadata": {},
   "outputs": [],
   "source": [
    "full_probs = []\n",
    "for chunk in results:\n",
    "    for preds in chunk[\"probabilities\"]:\n",
    "        preds_dict= {}\n",
    "        preds_dict[\"frame_number\"] = preds[\"frame_number\"]\n",
    "        preds_dict[\"timestamp\"] = preds[\"timestamp\"]\n",
    "        preds_dict[\"pred_1_name\"] = sorted(preds[\"predictions\"][0], key=preds[\"predictions\"][0].get, reverse=True)[0]\n",
    "        preds_dict[\"pred_1_value\"] = preds[\"predictions\"][0][preds_dict[\"pred_1_name\"]]\n",
    "        preds_dict[\"pred_2_name\"] = sorted(preds[\"predictions\"][0], key=preds[\"predictions\"][0].get, reverse=True)[1]\n",
    "        preds_dict[\"pred_2_value\"] = preds[\"predictions\"][0][preds_dict[\"pred_2_name\"]]\n",
    "        preds_dict[\"pred_3_name\"] = sorted(preds[\"predictions\"][0], key=preds[\"predictions\"][0].get, reverse=True)[2]\n",
    "        preds_dict[\"pred_3_value\"] = preds[\"predictions\"][0][preds_dict[\"pred_3_name\"]]\n",
    "        full_probs.append(preds_dict)\n",
    "\n",
    "results_df = pd.DataFrame(full_probs)"
   ]
  },
  {
   "cell_type": "code",
   "execution_count": null,
   "id": "6032ebf7",
   "metadata": {},
   "outputs": [],
   "source": [
    "sqldf(\"\"\"\n",
    "    select\n",
    "        *\n",
    "    from results_df\n",
    "    where \n",
    "        pred_1_name like '%murphy%'\n",
    "\"\"\")"
   ]
  },
  {
   "cell_type": "code",
   "execution_count": null,
   "id": "7718b379",
   "metadata": {},
   "outputs": [],
   "source": [
    "scene_path = './datasets/videos/the_final_kick.mp4'\n",
    "frame = get_frame_from_video(video_path = scene_path,timestamp = '00:01:08.000')\n",
    "embs, embs_metadata = get_embeddings_from_image(provided_image=frame, multiple_faces=True, display=True)"
   ]
  }
 ],
 "metadata": {
  "kernelspec": {
   "display_name": "Python 3 (ipykernel)",
   "language": "python",
   "name": "python3"
  },
  "language_info": {
   "codemirror_mode": {
    "name": "ipython",
    "version": 3
   },
   "file_extension": ".py",
   "mimetype": "text/x-python",
   "name": "python",
   "nbconvert_exporter": "python",
   "pygments_lexer": "ipython3",
   "version": "3.7.10"
  }
 },
 "nbformat": 4,
 "nbformat_minor": 5
}
