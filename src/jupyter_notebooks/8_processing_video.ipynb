{
 "cells": [
  {
   "cell_type": "markdown",
   "id": "9f0a5d9e",
   "metadata": {},
   "source": [
    "## Processing video\n",
    "\n",
    "In this notebook we will go through the different functions used to process video information"
   ]
  },
  {
   "cell_type": "markdown",
   "id": "3ccdbeac",
   "metadata": {},
   "source": [
    "### Importing libraries"
   ]
  },
  {
   "cell_type": "code",
   "execution_count": null,
   "id": "775e3680",
   "metadata": {},
   "outputs": [],
   "source": [
    "import sys\n",
    "import os\n",
    "sys.path.append('/opt/workspace/src/python_scripts/')\n",
    "from ops_face_detection import process_video, get_video_embeddings\n",
    "script_name = os.path.basename(__name__)\n",
    "path_arr = os.getcwd().split(os.path.sep)\n",
    "os.chdir(os.path.sep.join(path_arr[:path_arr.index('src')+1]))"
   ]
  },
  {
   "cell_type": "markdown",
   "id": "f0384108",
   "metadata": {},
   "source": [
    "### Get video embeddings\n",
    "\n",
    "By using the function `process_video` we will be able to get all the embeddings and its metadata"
   ]
  },
  {
   "cell_type": "code",
   "execution_count": null,
   "id": "da98efb3",
   "metadata": {},
   "outputs": [],
   "source": [
    "video_path = './datasets/videos/dream_scene.mp4'\n",
    "embeddings, metadata = process_video(video_path)\n",
    "print(metadata)\n",
    "print(len(embeddings))"
   ]
  },
  {
   "cell_type": "markdown",
   "id": "e4028891",
   "metadata": {},
   "source": [
    "### Process full video\n",
    "\n",
    "Function `get_video_embeddings` will allow us to process and store a full video embeddings, with the option to do it in chunks"
   ]
  },
  {
   "cell_type": "code",
   "execution_count": null,
   "id": "c13b053b",
   "metadata": {},
   "outputs": [],
   "source": [
    "video_path = './datasets/videos/dream_scene.mp4'\n",
    "output_path = './models/embeddings/processed_videos'\n",
    "get_video_embeddings(video_path,output_path,partitions = 4, desired_fps = 2)"
   ]
  }
 ],
 "metadata": {
  "kernelspec": {
   "display_name": "Python 3 (ipykernel)",
   "language": "python",
   "name": "python3"
  },
  "language_info": {
   "codemirror_mode": {
    "name": "ipython",
    "version": 3
   },
   "file_extension": ".py",
   "mimetype": "text/x-python",
   "name": "python",
   "nbconvert_exporter": "python",
   "pygments_lexer": "ipython3",
   "version": "3.7.10"
  },
  "vscode": {
   "interpreter": {
    "hash": "b0fa6594d8f4cbf19f97940f81e996739fb7646882a419484c72d19e05852a7e"
   }
  }
 },
 "nbformat": 4,
 "nbformat_minor": 5
}
