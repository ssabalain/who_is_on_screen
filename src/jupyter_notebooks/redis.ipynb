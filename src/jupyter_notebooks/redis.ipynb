{
 "cells": [
  {
   "cell_type": "code",
   "execution_count": null,
   "id": "9bea89d9",
   "metadata": {},
   "outputs": [],
   "source": [
    "import redis"
   ]
  },
  {
   "cell_type": "code",
   "execution_count": null,
   "id": "fb11e24e",
   "metadata": {},
   "outputs": [],
   "source": [
    "r = redis.StrictRedis(host=\"redis\",port= 6379,db=0)\n",
    "r.ping()"
   ]
  },
  {
   "cell_type": "code",
   "execution_count": null,
   "id": "7c847b87",
   "metadata": {},
   "outputs": [],
   "source": [
    "def toRedis(r,a,n):\n",
    "   \"\"\"Store given Numpy array 'a' in Redis under key 'n'\"\"\"\n",
    "   h, w = a.shape\n",
    "   shape = struct.pack('>II',h,w)\n",
    "   encoded = shape + a.tobytes()\n",
    "\n",
    "   # Store encoded data in Redis\n",
    "   r.set(n,encoded)\n",
    "   return\n",
    "\n",
    "def fromRedis(r,n):\n",
    "   \"\"\"Retrieve Numpy array from Redis key 'n'\"\"\"\n",
    "   encoded = r.get(n)\n",
    "   h, w = struct.unpack('>II',encoded[:8])\n",
    "   # Add slicing here, or else the array would differ from the original\n",
    "   a = np.frombuffer(encoded[8:],dtype=np.uint16).reshape(h,w)\n",
    "   return a\n",
    "\n",
    "# Create 80x80 numpy array to store\n",
    "#a0 = np.arange(6400,dtype=np.uint16).reshape(80,80) \n",
    "\n",
    "# Redis connection\n",
    "#r = redis.Redis(host='localhost', port=6379, db=0)\n",
    "\n",
    "# Store array a0 in Redis under name 'a0array'\n",
    "#toRedis(r,a0,'a0array')\n",
    "\n",
    "# Retrieve from Redis\n",
    "#a1 = fromRedis(r,'a0array')\n",
    "\n",
    "#np.testing.assert_array_equal(a0,a1 )"
   ]
  }
 ],
 "metadata": {
  "kernelspec": {
   "display_name": "Python 3 (ipykernel)",
   "language": "python",
   "name": "python3"
  },
  "language_info": {
   "codemirror_mode": {
    "name": "ipython",
    "version": 3
   },
   "file_extension": ".py",
   "mimetype": "text/x-python",
   "name": "python",
   "nbconvert_exporter": "python",
   "pygments_lexer": "ipython3",
   "version": "3.7.10"
  }
 },
 "nbformat": 4,
 "nbformat_minor": 5
}
