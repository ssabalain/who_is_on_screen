{
 "cells": [
  {
   "cell_type": "code",
   "execution_count": null,
   "id": "866b5f94",
   "metadata": {},
   "outputs": [],
   "source": [
    "import os\n",
    "import json\n",
    "import requests\n",
    "import sys\n",
    "!{sys.executable} -m pip install pyyaml\n",
    "!{sys.executable} -m pip install pandas\n",
    "import yaml\n",
    "from yaml.loader import SafeLoader\n",
    "import pandas as pd\n",
    "sys.path.append('/opt/workspace/src/python_scripts/')\n",
    "import ops_database_operations as db"
   ]
  },
  {
   "cell_type": "code",
   "execution_count": 2,
   "id": "29ce9132",
   "metadata": {},
   "outputs": [],
   "source": [
    "def get_tmdb_id_for_person(person_name,api_key):\n",
    "    searchable_name = '+'.join(person_name.split(' '))\n",
    "    query = 'https://api.themoviedb.org/3/search/person?api_key='+ api_key +'&language=en-US&page=1&include_adult=false&query=' + searchable_name\n",
    "    response =  requests.get(query)\n",
    "    if response.status_code==200: \n",
    "        array = response.json()\n",
    "        tmdb_id = array['results'][0]['id']\n",
    "        return (tmdb_id)\n",
    "    else:\n",
    "        return (\"error\") "
   ]
  },
  {
   "cell_type": "code",
   "execution_count": 3,
   "id": "cbf35bcd",
   "metadata": {},
   "outputs": [],
   "source": [
    "def get_movies_by_director(director_id,api_key):\n",
    "    query = 'https://api.themoviedb.org/3/person/'+ str(director_id) +'/movie_credits?api_key='+ api_key +'&language=en-US'\n",
    "    response =  requests.get(query)\n",
    "    if response.status_code==200: \n",
    "        array = response.json()\n",
    "        movies = [x for x in array['crew'] if x['job'] == 'Director']\n",
    "        return (movies)\n",
    "    else:\n",
    "        return (\"error\")"
   ]
  },
  {
   "cell_type": "code",
   "execution_count": 4,
   "id": "ee268a2c",
   "metadata": {},
   "outputs": [],
   "source": [
    "def get_actors_by_movie(movie_id,api_key):\n",
    "    query = 'https://api.themoviedb.org/3/movie/'+ str(movie_id) +'/credits?api_key='+ api_key +'&language=en-US'\n",
    "    response =  requests.get(query)\n",
    "    if response.status_code==200: \n",
    "        array = response.json()\n",
    "        actors = array['cast']\n",
    "        return (actors)\n",
    "    else:\n",
    "        return (\"error\")"
   ]
  },
  {
   "cell_type": "code",
   "execution_count": 5,
   "id": "f359bb72",
   "metadata": {},
   "outputs": [],
   "source": [
    "def get_actor_by_id(actor_id, api_key):\n",
    "    query = 'https://api.themoviedb.org/3/person/'+ str(actor_id) +'?api_key='+ api_key +'&language=en-US'\n",
    "    response =  requests.get(query)\n",
    "    if response.status_code==200: \n",
    "        array = response.json()\n",
    "        #actors = array['cast']\n",
    "        return (array)\n",
    "    else:\n",
    "        return (\"error\")"
   ]
  },
  {
   "cell_type": "code",
   "execution_count": 6,
   "id": "4d55195a",
   "metadata": {},
   "outputs": [],
   "source": [
    "def create_director_database(director_name,tmdb_keys_path,sql_user,sql_pwd):\n",
    "    db_name = director_name.replace(' ','_').lower() \n",
    "    with open(tmdb_keys_path) as f:\n",
    "        tmdb_key = yaml.load(f, Loader=SafeLoader)['TMDB_API_KEY']\n",
    "\n",
    "    director_tmdb_id = get_tmdb_id_for_person(director_name,tmdb_key)\n",
    "    \n",
    "    movies_from_director_array = get_movies_by_director(director_tmdb_id,tmdb_key) \n",
    "    movies_from_director_df = pd.DataFrame.from_records(movies_from_director_array)[['id','original_title','release_date','vote_average','vote_count']]\n",
    "    movies_from_director_df.rename(columns = {'id':'movie_id'}, inplace = True)\n",
    "    \n",
    "    db.create_database(sql_user,sql_pwd,db_name)\n",
    "    \n",
    "    uri = 'mysql+pymysql://' + sql_user + ':' + sql_pwd + '@' + 'mysql' + ':' + '3306' + '/' + db_name\n",
    "    conn = db.return_conn(uri)\n",
    "    db.insert_pd_df_in_table(conn,movies_from_director_df,'movies',if_exists_method = 'replace')\n",
    "    \n",
    "    actors_from_director_array = []\n",
    "    \n",
    "    actors_list = []\n",
    "    actors_array = []\n",
    "    \n",
    "    for movie in movies_from_director_array:\n",
    "        actors_from_movie_array = get_actors_by_movie(movie['id'],tmdb_key)\n",
    "        for actor in actors_from_movie_array:\n",
    "            if actor['id'] not in actors_list: \n",
    "                actors_list.append(actor['id'])\n",
    "                actors_array.append(actor)\n",
    "\n",
    "            actor['movie_id'] = str(movie['id'])\n",
    "            actors_from_director_array.append(actor)\n",
    "    \n",
    "    actors_from_director_df = pd.DataFrame.from_records(actors_from_director_array)[['id','movie_id','cast_id','credit_id','character','order']]\n",
    "    actors_from_director_df.rename(columns = {'id':'actor_id'}, inplace = True)\n",
    "    db.insert_pd_df_in_table(conn,actors_from_director_df,'actors_by_movie',if_exists_method = 'replace')\n",
    "    \n",
    "    actors_df = pd.DataFrame.from_records(actors_array)[['id','name','original_name','gender','popularity','known_for_department']]\n",
    "    actors_df.rename(columns = {'id':'actor_id'}, inplace = True)\n",
    "    db.insert_pd_df_in_table(conn,actors_df,'actors',if_exists_method = 'replace')"
   ]
  },
  {
   "cell_type": "code",
   "execution_count": null,
   "id": "4739ea9a",
   "metadata": {},
   "outputs": [],
   "source": [
    "create_director_database('Christopher Nolan','/opt/workspace/src/keys.yml','WIOS_User','Whoisonscreen!')"
   ]
  }
 ],
 "metadata": {
  "kernelspec": {
   "display_name": "Python 3.9.10 64-bit",
   "language": "python",
   "name": "python3"
  },
  "language_info": {
   "codemirror_mode": {
    "name": "ipython",
    "version": 3
   },
   "file_extension": ".py",
   "mimetype": "text/x-python",
   "name": "python",
   "nbconvert_exporter": "python",
   "pygments_lexer": "ipython3",
   "version": "3.9.10"
  },
  "vscode": {
   "interpreter": {
    "hash": "b0fa6594d8f4cbf19f97940f81e996739fb7646882a419484c72d19e05852a7e"
   }
  }
 },
 "nbformat": 4,
 "nbformat_minor": 5
}
