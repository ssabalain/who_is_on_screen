{
 "cells": [
  {
   "cell_type": "code",
   "execution_count": null,
   "id": "a3fde827",
   "metadata": {},
   "outputs": [],
   "source": [
    "!pip install sklearn\n",
    "from sklearn.preprocessing import LabelEncoder\n",
    "from sklearn.svm import SVC\n",
    "import pickle\n",
    "import os\n",
    "import numpy as np\n",
    "import cv2"
   ]
  },
  {
   "cell_type": "code",
   "execution_count": null,
   "id": "2d42e007",
   "metadata": {},
   "outputs": [],
   "source": [
    "import sys\n",
    "sys.path.append('/opt/workspace/src/python_scripts/')\n",
    "import ops_files_operations as files\n",
    "import ops_logger as log\n",
    "import ops_face_detection as fd"
   ]
  },
  {
   "cell_type": "code",
   "execution_count": null,
   "id": "61b06815",
   "metadata": {},
   "outputs": [],
   "source": [
    "script_name = os.path.basename(__name__)\n",
    "path_arr = os.getcwd().split(os.path.sep)\n",
    "os.chdir(os.path.sep.join(path_arr[:path_arr.index('src')+1]))"
   ]
  },
  {
   "cell_type": "code",
   "execution_count": null,
   "id": "32f64970",
   "metadata": {},
   "outputs": [],
   "source": [
    "logger = log.create_logger('./models/logs',script_name,level='error')"
   ]
  },
  {
   "cell_type": "code",
   "execution_count": null,
   "id": "4dda0290",
   "metadata": {},
   "outputs": [],
   "source": [
    "pickle_file = './models/embeddings/embeddings.pickle'\n",
    "data = files.read_pickle_file(pickle_file,logger)"
   ]
  },
  {
   "cell_type": "code",
   "execution_count": null,
   "id": "cf7f4d9b",
   "metadata": {},
   "outputs": [],
   "source": [
    "le = LabelEncoder()\n",
    "labels = le.fit_transform(data[\"names\"])\n",
    "embeddings = np.squeeze(np.array(data[\"embeddings\"]))\n",
    "le_name_mapping = dict(zip(le.classes_, le.transform(le.classes_)))"
   ]
  },
  {
   "cell_type": "code",
   "execution_count": null,
   "id": "3429767a",
   "metadata": {},
   "outputs": [],
   "source": [
    "recognizer = SVC(C=1.0, kernel=\"linear\", probability=True)\n",
    "recognizer.fit(embeddings, labels)"
   ]
  },
  {
   "cell_type": "code",
   "execution_count": null,
   "id": "18369be5",
   "metadata": {},
   "outputs": [],
   "source": [
    "protoPath = './models/face_detector/deploy.prototxt'\n",
    "modelPath = './models/face_detector/res10_300x300_ssd_iter_140000.caffemodel'\n",
    "embeddingPath = './models/face_detector/openface.nn4.small2.v1.t7'\n",
    "detector = cv2.dnn.readNetFromCaffe(protoPath, modelPath)\n",
    "embedder = cv2.dnn.readNetFromTorch(embeddingPath)\n",
    "test_image_path = './datasets/actor_faces/2037_cillian_murphy/cillian_murphy_7.jpg'\n",
    "test_embeddings = fd.get_embeddings_from_image(test_image_path,detector,embedder,logger)"
   ]
  },
  {
   "cell_type": "code",
   "execution_count": null,
   "id": "b2bb3c39",
   "metadata": {},
   "outputs": [],
   "source": [
    "test_array = np.array(test_embeddings)"
   ]
  },
  {
   "cell_type": "code",
   "execution_count": null,
   "id": "3cba787d",
   "metadata": {},
   "outputs": [],
   "source": [
    "preds = recognizer.predict_proba(test_array)[0]\n",
    "j = np.argmax(preds)\n",
    "proba = preds[j]\n",
    "name = le.classes_[j]"
   ]
  },
  {
   "cell_type": "code",
   "execution_count": null,
   "id": "bb37eb3e",
   "metadata": {},
   "outputs": [],
   "source": [
    "name"
   ]
  },
  {
   "cell_type": "code",
   "execution_count": null,
   "id": "914c8dda",
   "metadata": {},
   "outputs": [],
   "source": [
    "proba"
   ]
  },
  {
   "cell_type": "code",
   "execution_count": null,
   "id": "66b27cfe",
   "metadata": {},
   "outputs": [],
   "source": [
    "preds"
   ]
  },
  {
   "cell_type": "code",
   "execution_count": null,
   "id": "4f95ce14",
   "metadata": {},
   "outputs": [],
   "source": [
    "le_name_mapping"
   ]
  },
  {
   "cell_type": "code",
   "execution_count": null,
   "id": "3c4a5888",
   "metadata": {},
   "outputs": [],
   "source": []
  }
 ],
 "metadata": {
  "kernelspec": {
   "display_name": "Python 3 (ipykernel)",
   "language": "python",
   "name": "python3"
  },
  "language_info": {
   "codemirror_mode": {
    "name": "ipython",
    "version": 3
   },
   "file_extension": ".py",
   "mimetype": "text/x-python",
   "name": "python",
   "nbconvert_exporter": "python",
   "pygments_lexer": "ipython3",
   "version": "3.7.10"
  }
 },
 "nbformat": 4,
 "nbformat_minor": 5
}
