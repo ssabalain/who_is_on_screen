{
 "cells": [
  {
   "cell_type": "markdown",
   "id": "4f29b1f9",
   "metadata": {},
   "source": [
    "## Analyzing a movie\n",
    "\n",
    "We are going to apply the different capabilities build in order to predict actors in a movie"
   ]
  },
  {
   "cell_type": "markdown",
   "id": "3f67a40b",
   "metadata": {},
   "source": [
    "### Importing libraries"
   ]
  },
  {
   "cell_type": "code",
   "execution_count": null,
   "id": "94207a19",
   "metadata": {},
   "outputs": [],
   "source": [
    "import sys\n",
    "import os\n",
    "import json\n",
    "import pandas as pd\n",
    "import numpy as np\n",
    "!pip install pandasql\n",
    "from pandasql import sqldf\n",
    "import matplotlib.pyplot as plt\n",
    "from time import time, strftime, localtime, gmtime, sleep\n",
    "from random import randrange\n",
    "import random\n",
    "sys.path.append('/opt/workspace/src/python_scripts/')\n",
    "from ops_face_recognition import train_recognizer,get_probabilities_for_folder\n",
    "from ops_files_operations import read_pickle_file, read_json_file, get_element_from_metadata, create_pickle_file\n",
    "from ops_face_detection import process_video, get_video_embeddings,get_frame_from_video, get_embeddings_from_image\n",
    "from ops_results_interpretation import get_frames_df, get_actors_probs_query, get_predicted_timeline, get_summarized_timeline\n",
    "from ops_logger import Logger\n",
    "from IPython.display import clear_output\n",
    "from IPython import display"
   ]
  },
  {
   "cell_type": "markdown",
   "id": "004d31dc",
   "metadata": {},
   "source": [
    "### Processing movie"
   ]
  },
  {
   "cell_type": "markdown",
   "id": "04b35950",
   "metadata": {},
   "source": [
    "#### Obtaining movie embeddings"
   ]
  },
  {
   "cell_type": "code",
   "execution_count": null,
   "id": "1ad8550e",
   "metadata": {},
   "outputs": [],
   "source": [
    "movie_path = './datasets/videos/inception.mkv'\n",
    "output_path = './models/embeddings/processed_videos'\n",
    "get_video_embeddings(\n",
    "    video_path = movie_path,\n",
    "    results_path = output_path,\n",
    "    partitions=32, \n",
    "    desired_fps=4\n",
    ")"
   ]
  },
  {
   "cell_type": "markdown",
   "id": "0f93945e",
   "metadata": {},
   "source": [
    "#### Defining paths"
   ]
  },
  {
   "cell_type": "code",
   "execution_count": null,
   "id": "0cb62378",
   "metadata": {},
   "outputs": [],
   "source": [
    "movie_embeddings_path = './models/embeddings/processed_videos/inception'\n",
    "processed_videos_metadata_path = './models/embeddings/processed_videos/inception/processed_videos_metadata.json'\n",
    "results_folder = './models/results'\n",
    "results_metadata_path = './models/results/probabilities_metadata.json'\n",
    "recognizer_metadata_path = './models/recognizers/recognizer_metadata.json'\n",
    "recognizer_path = './models/recognizers'"
   ]
  },
  {
   "cell_type": "markdown",
   "id": "37e08031",
   "metadata": {},
   "source": [
    "#### Getting processed_video_id and recognizer_id"
   ]
  },
  {
   "cell_type": "code",
   "execution_count": null,
   "id": "adba2ac1",
   "metadata": {},
   "outputs": [],
   "source": [
    "processed_video_id = get_element_from_metadata(\n",
    "    metadata_file_path=processed_videos_metadata_path,\n",
    "    latest=True\n",
    ")[\"processed_video_id\"]\n",
    "\n",
    "recognizer_id = get_element_from_metadata(\n",
    "    metadata_file_path=recognizer_metadata_path,\n",
    "    latest=True\n",
    ")[\"recognizer_id\"]"
   ]
  },
  {
   "cell_type": "markdown",
   "id": "b779145e",
   "metadata": {},
   "source": [
    "#### Predicting results for movie"
   ]
  },
  {
   "cell_type": "code",
   "execution_count": null,
   "id": "35245dcb",
   "metadata": {},
   "outputs": [],
   "source": [
    "folder_probabilities, folder_probabilities_metadata = get_probabilities_for_folder(\n",
    "    folder_path = movie_embeddings_path,\n",
    "    recognizer_folder = recognizer_path,\n",
    "    save_to_pickle = True,\n",
    "    output_folder = results_folder,\n",
    "    processed_video_id = processed_video_id,\n",
    "    recognizer_id = recognizer_id\n",
    ")"
   ]
  },
  {
   "cell_type": "markdown",
   "id": "c599ccf5",
   "metadata": {},
   "source": [
    "#### Getting results_id and other metadata files"
   ]
  },
  {
   "cell_type": "code",
   "execution_count": null,
   "id": "b98a2bf6",
   "metadata": {},
   "outputs": [],
   "source": [
    "results_metadata = get_element_from_metadata(\n",
    "    metadata_file_path=results_metadata_path,\n",
    "    #key = 'results_id',\n",
    "    #value = results_id,\n",
    "    latest=True\n",
    ")\n",
    "\n",
    "processed_videos_metadata = get_element_from_metadata(\n",
    "    metadata_file_path=processed_videos_metadata_path,\n",
    "    key = 'processed_video_id',\n",
    "    value = results_metadata['processed_video_id']\n",
    ")\n",
    "recognizer_metadata = get_element_from_metadata(\n",
    "    metadata_file_path=recognizer_metadata_path,\n",
    "    key = 'recognizer_id',\n",
    "    value = results_metadata['recognizer_id']\n",
    ")\n",
    "\n",
    "pickle_path = results_metadata['pickle_path']\n",
    "results_id = results_metadata['results_id']\n",
    "#results = read_pickle_file(pickle_path)"
   ]
  },
  {
   "cell_type": "markdown",
   "id": "d915bbc3",
   "metadata": {},
   "source": [
    "### Understanding results for all actors in a video"
   ]
  },
  {
   "cell_type": "code",
   "execution_count": null,
   "id": "9f0b6970",
   "metadata": {},
   "outputs": [],
   "source": [
    "summarized_timeline = get_summarized_timeline(\n",
    "    results_id=results_id,\n",
    "    processed_videos_metadata_path=processed_videos_metadata_path\n",
    ")\n"
   ]
  },
  {
   "cell_type": "code",
   "execution_count": null,
   "id": "c879158a",
   "metadata": {},
   "outputs": [],
   "source": [
    "create_pickle_file(summarized_timeline,'./models/timelines/summarized_timeline.pickle')"
   ]
  },
  {
   "cell_type": "code",
   "execution_count": null,
   "id": "20fd72d4",
   "metadata": {},
   "outputs": [],
   "source": [
    "length_threshold = 24\n",
    "sum_pred_value_threshold = 8\n",
    "max_pred_value_threshold = 0.8\n",
    "\n",
    "final_timeline = sqldf(\"\"\"\n",
    "    select *\n",
    "    from full_timeline \n",
    "    where length >= {0} or sum_pred_value >= {1} or max_pred_value >= {2}\n",
    "\"\"\".format(length_threshold,sum_pred_value_threshold,max_pred_value_threshold))"
   ]
  },
  {
   "cell_type": "code",
   "execution_count": null,
   "id": "0ac7e559",
   "metadata": {},
   "outputs": [],
   "source": [
    "create_pickle_file(timeline,'./models/timelines/inception_final_timeline_model1.pickle')"
   ]
  },
  {
   "cell_type": "code",
   "execution_count": null,
   "id": "2cb96d78",
   "metadata": {},
   "outputs": [],
   "source": [
    "sqldf(\"\"\"\n",
    "\n",
    "    with flags as (\n",
    "    \n",
    "        select\n",
    "            *,\n",
    "            \n",
    "            true as is_base_model,\n",
    "            \n",
    "            case\n",
    "                when length >= 12 or sum_pred_value >= 4 or max_pred_value >= 0.6 then true\n",
    "                else false\n",
    "            end as is_model_1,\n",
    "            \n",
    "            case\n",
    "                when length >= 24 or sum_pred_value >= 8 or max_pred_value >= 0.8 then true\n",
    "                else false\n",
    "            end as is_model_2\n",
    "            \n",
    "\n",
    "        from full_timeline\n",
    "\n",
    "    )\n",
    "    \n",
    "    select\n",
    "        is_model_2,\n",
    "        count(*)\n",
    "    from flags\n",
    "    group by 1\n",
    "    \n",
    "    \n",
    "    \n",
    "\"\"\")"
   ]
  },
  {
   "cell_type": "markdown",
   "id": "8c7d5782",
   "metadata": {},
   "source": [
    "#### Tester"
   ]
  },
  {
   "cell_type": "code",
   "execution_count": null,
   "id": "414c8b89",
   "metadata": {},
   "outputs": [],
   "source": [
    "full_timeline = read_pickle_file('./models/timelines/summarized_timeline_flagged.pickle')\n",
    "sqldf(\"\"\"\n",
    "    select *\n",
    "    from full_timeline\n",
    "\n",
    "\"\"\")"
   ]
  },
  {
   "cell_type": "code",
   "execution_count": null,
   "id": "7992cab8",
   "metadata": {},
   "outputs": [],
   "source": [
    "num_of_test = 50\n",
    "images_per_zone = 4\n",
    "scene_path = './datasets/videos/inception.mkv'\n",
    "full_timeline = read_pickle_file('./models/timelines/summarized_timeline_flagged.pickle')\n",
    "model = 1\n",
    "\n",
    "if model == 1:\n",
    "    length_threshold = 12\n",
    "    sum_pred_value_threshold = 4\n",
    "    max_pred_value_threshold = 0.6\n",
    "if model == 2:\n",
    "    length_threshold = 24\n",
    "    sum_pred_value_threshold = 8\n",
    "    max_pred_value_threshold = 0.8\n",
    "\n",
    "timeline = sqldf(f\"\"\"\n",
    "    select\n",
    "        *\n",
    "    from full_timeline\n",
    "    where\n",
    "        (length >= {length_threshold} or sum_pred_value >= {sum_pred_value_threshold} or max_pred_value >= {max_pred_value_threshold})\n",
    "        and user_validation is null\n",
    "\n",
    "\"\"\")\n",
    "\n",
    "results = []\n",
    "available_records = int(timeline.shape[0])\n",
    "if num_of_test <= available_records:\n",
    "    sample_num = num_of_test\n",
    "else:\n",
    "    sample_num = available_records\n",
    "\n",
    "prediction_nums = random.sample(range(available_records), sample_num)\n",
    "\n",
    "for its, num in enumerate(prediction_nums):\n",
    "    prediction = timeline.loc[[int(num)]]\n",
    "    first_frame_num = int(prediction[\"frame_number_from\"])\n",
    "    last_frame_num = int(prediction[\"frame_number_to\"])\n",
    "    step = round((last_frame_num - first_frame_num)/images_per_zone)\n",
    "    \n",
    "    frames=[]\n",
    "    counter = first_frame_num\n",
    "    \n",
    "    while counter < last_frame_num:\n",
    "        frames.append(get_frame_from_video(video_path = scene_path,frame_number = counter))\n",
    "        counter = counter + step\n",
    "    \n",
    "    f = plt.figure(figsize=[20,20])\n",
    "    \n",
    "    for it_num,frame in enumerate(frames):\n",
    "        f.add_subplot(1,len(frames), it_num+1)        \n",
    "        plt.imshow(frame[:,:,::-1])\n",
    "        plt.title(f\"Image {its+1}/{sample_num}, frame {first_frame_num + (step*(it_num))} \")\n",
    "        plt.axis('off');\n",
    "        \n",
    "    plt.show()\n",
    "    \n",
    "    clear_output(wait=True)\n",
    "    user_guess = input(f\"Is {prediction['actor'].values[0]} in any this picture? (Frame ref: {first_frame_num}) (1 = Yes, 0 = No)\")\n",
    "    results.append(user_guess)\n",
    "    full_timeline.loc[full_timeline[\"id\"] == int(prediction[\"id\"]),\"user_validation\"] = user_guess\n",
    "    \n",
    "hits = 0\n",
    "for result in results:\n",
    "    if int(result) == 1:\n",
    "        hits = hits + 1\n",
    "\n",
    "clear_output(wait=True)\n",
    "create_pickle_file(full_timeline,'./models/timelines/summarized_timeline_flagged.pickle')\n",
    "print(f'Total hits: {hits}. Accuracy: {(hits/sample_num)*100}%')"
   ]
  },
  {
   "cell_type": "code",
   "execution_count": 3,
   "id": "ed8f803b",
   "metadata": {},
   "outputs": [],
   "source": [
    "full_timeline = read_pickle_file('./models/timelines/summarized_timeline_flagged.pickle')"
   ]
  },
  {
   "cell_type": "code",
   "execution_count": null,
   "id": "4a98842f",
   "metadata": {},
   "outputs": [],
   "source": [
    "sqldf(\"\"\"\n",
    "    select *\n",
    "    from full_timeline\n",
    "    where user_validation is not null\n",
    "\n",
    "\"\"\")"
   ]
  },
  {
   "cell_type": "code",
   "execution_count": 4,
   "id": "23c77065",
   "metadata": {},
   "outputs": [
    {
     "data": {
      "text/html": [
       "<div>\n",
       "<style scoped>\n",
       "    .dataframe tbody tr th:only-of-type {\n",
       "        vertical-align: middle;\n",
       "    }\n",
       "\n",
       "    .dataframe tbody tr th {\n",
       "        vertical-align: top;\n",
       "    }\n",
       "\n",
       "    .dataframe thead th {\n",
       "        text-align: right;\n",
       "    }\n",
       "</style>\n",
       "<table border=\"1\" class=\"dataframe\">\n",
       "  <thead>\n",
       "    <tr style=\"text-align: right;\">\n",
       "      <th></th>\n",
       "      <th>user_validation</th>\n",
       "      <th>count(*)</th>\n",
       "    </tr>\n",
       "  </thead>\n",
       "  <tbody>\n",
       "    <tr>\n",
       "      <th>0</th>\n",
       "      <td>0</td>\n",
       "      <td>356</td>\n",
       "    </tr>\n",
       "    <tr>\n",
       "      <th>1</th>\n",
       "      <td>1</td>\n",
       "      <td>186</td>\n",
       "    </tr>\n",
       "  </tbody>\n",
       "</table>\n",
       "</div>"
      ],
      "text/plain": [
       "  user_validation  count(*)\n",
       "0               0       356\n",
       "1               1       186"
      ]
     },
     "execution_count": 4,
     "metadata": {},
     "output_type": "execute_result"
    }
   ],
   "source": [
    "sqldf(\"\"\"\n",
    "    select\n",
    "        user_validation,\n",
    "        count(*)\n",
    "    from full_timeline\n",
    "    where (length >= 12 or sum_pred_value >= 4 or max_pred_value >= 0.6)\n",
    "    group by 1\n",
    "\n",
    "\"\"\")"
   ]
  },
  {
   "cell_type": "code",
   "execution_count": 92,
   "id": "c3fb80cd",
   "metadata": {},
   "outputs": [],
   "source": [
    "acc_by_actor = sqldf(\"\"\"\n",
    "\n",
    "    with double_pred as (\n",
    "    \n",
    "        select\n",
    "            frame_number_from,\n",
    "            frame_number_to,\n",
    "            count(*) as preds_in_interval\n",
    "        from full_timeline\n",
    "        group by 1,2\n",
    "        having count(*) > 1\n",
    "        order by count(*) desc\n",
    "    \n",
    "    ),\n",
    "    \n",
    "    dedup as (\n",
    "    \n",
    "        select\n",
    "            full_timeline.*,\n",
    "\n",
    "            coalesce(preds_in_interval,1) as preds_in_interval,\n",
    "\n",
    "            rank() over(partition by frame_number_from,frame_number_to order by coalesce(user_validation,3) desc,sum_pred_value desc) as ranking\n",
    "\n",
    "        from full_timeline\n",
    "        left join double_pred using(frame_number_from,frame_number_to)\n",
    "        --where preds_in_interval = 2\n",
    "    \n",
    "    ),\n",
    "    \n",
    "    base as (\n",
    "    \n",
    "        select * from dedup\n",
    "        where ranking = 1 and (length >= 12 or sum_pred_value >= 4 or max_pred_value >= 0.6)\n",
    "    \n",
    "    ),\n",
    "    \n",
    "    kpi as (\n",
    "    \n",
    "        select\n",
    "            *,\n",
    "            count(*) over(order by sum_pred_value desc) as top_rank,\n",
    "            cast(sum(user_validation) over(order by sum_pred_value desc) as float)/count(*) over(order by sum_pred_value desc) as kpi\n",
    "\n",
    "        from base\n",
    "        order by sum_pred_value desc\n",
    "        \n",
    "    )\n",
    "    \n",
    "    select\n",
    "        actor,\n",
    "        sum(user_validation) as total_hits,\n",
    "        count(*) as total_zones,\n",
    "        (cast(sum(user_validation) as float)/count(*))*100 as kpi\n",
    "    from base \n",
    "    group by 1\n",
    "    order by total_zones desc\n",
    "\n",
    "\"\"\")"
   ]
  },
  {
   "cell_type": "code",
   "execution_count": 101,
   "id": "27e5c900",
   "metadata": {},
   "outputs": [],
   "source": [
    "acc_by_actor.to_csv('test.csv')"
   ]
  },
  {
   "cell_type": "code",
   "execution_count": 80,
   "id": "44c23972",
   "metadata": {},
   "outputs": [
    {
     "data": {
      "text/plain": [
       "Text(0, 0.5, 'Accuracy (in %)')"
      ]
     },
     "execution_count": 80,
     "metadata": {},
     "output_type": "execute_result"
    },
    {
     "data": {
      "image/png": "[encoded data removed]",
      "text/plain": [
       "<Figure size 1500x500 with 1 Axes>"
      ]
     },
     "metadata": {},
     "output_type": "display_data"
    }
   ],
   "source": [
    "f = plt.figure()\n",
    "f.set_figwidth(15)\n",
    "f.set_figheight(5)\n",
    "plt.plot(\n",
    "        acc_by_rank_sum['top_rank'],\n",
    "        acc_by_rank_sum['kpi']*100,\n",
    "        #label = \"overall pred\",\n",
    "        color = 'blue'\n",
    "    )\n",
    "plt.xlim(0,540) \n",
    "plt.ylim(30,65) \n",
    "plt.yticks(range(30, 65, 2))\n",
    "plt.xticks(range(0, 540, 20))\n",
    "plt.xticks(fontsize=10, rotation=45)\n",
    "#plt.legend(loc='upper right')\n",
    "plt.grid(axis = 'y' )\n",
    "plt.xlabel(\"Top 'X' zones ordered by 'sum_prev_value'\")\n",
    "plt.ylabel(\"Accuracy (in %)\")"
   ]
  },
  {
   "cell_type": "code",
   "execution_count": null,
   "id": "3925f09f",
   "metadata": {},
   "outputs": [],
   "source": [
    "scene_path = './datasets/videos/inception.mkv'\n",
    "frame = get_frame_from_video(video_path = scene_path,frame_number = 5930)#timestamp = '00:00:12.000')\n",
    "embs, embs_metadata = get_embeddings_from_image(provided_image=frame, multiple_faces=True, display=True)"
   ]
  },
  {
   "cell_type": "code",
   "execution_count": 15,
   "id": "9610bdaf",
   "metadata": {},
   "outputs": [],
   "source": [
    "processed_videos_metadata = get_element_from_metadata(\n",
    "    metadata_file_path='./models/embeddings/processed_videos/inception/processed_videos_metadata.json',\n",
    "    latest=True\n",
    ")"
   ]
  },
  {
   "cell_type": "code",
   "execution_count": null,
   "id": "00c71487",
   "metadata": {},
   "outputs": [],
   "source": []
  }
 ],
 "metadata": {
  "kernelspec": {
   "display_name": "Python 3 (ipykernel)",
   "language": "python",
   "name": "python3"
  },
  "language_info": {
   "codemirror_mode": {
    "name": "ipython",
    "version": 3
   },
   "file_extension": ".py",
   "mimetype": "text/x-python",
   "name": "python",
   "nbconvert_exporter": "python",
   "pygments_lexer": "ipython3",
   "version": "3.7.10"
  }
 },
 "nbformat": 4,
 "nbformat_minor": 5
}
