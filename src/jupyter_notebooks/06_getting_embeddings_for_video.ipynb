{
 "cells": [
  {
   "cell_type": "markdown",
   "id": "0449fccd",
   "metadata": {},
   "source": [
    "## Getting embeddings for video\n",
    "\n",
    "In this notebook we will go through the different functions used to process video information"
   ]
  },
  {
   "cell_type": "markdown",
   "id": "20fbac2c",
   "metadata": {},
   "source": [
    "### Importing libraries"
   ]
  },
  {
   "cell_type": "code",
   "execution_count": 6,
   "id": "65b8bd8a",
   "metadata": {},
   "outputs": [],
   "source": [
    "import sys\n",
    "import os\n",
    "import json\n",
    "sys.path.append('/opt/workspace/src/python_scripts/')\n",
    "from ops_face_detection import process_video, get_video_embeddings\n",
    "path_arr = os.getcwd().split(os.path.sep)\n",
    "os.chdir(os.path.sep.join(path_arr[:path_arr.index('src')+1]))"
   ]
  },
  {
   "cell_type": "markdown",
   "id": "2df59db3",
   "metadata": {},
   "source": [
    "### Get video embeddings\n",
    "\n",
    "By using the function `process_video` we will be able to get all the embeddings and its metadata"
   ]
  },
  {
   "cell_type": "code",
   "execution_count": null,
   "id": "b1e1c09a",
   "metadata": {},
   "outputs": [],
   "source": [
    "video_path = './datasets/videos/dream_scene.mp4'\n",
    "embeddings, metadata = process_video(\n",
    "    video_path,\n",
    "    desired_fps=1,\n",
    "    starting_frame=0,\n",
    "    ending_frame=24*4\n",
    ")\n",
    "\n",
    "print(f'Total face embeddings obtained: {len(embeddings)}\\n')\n",
    "print(f'Process metadata: \\n')\n",
    "print(json.dumps(metadata,indent=4))"
   ]
  },
  {
   "cell_type": "markdown",
   "id": "74dea0ae",
   "metadata": {},
   "source": [
    "### Process full video\n",
    "\n",
    "Function `get_video_embeddings` will allow us to process and store a full video embeddings, with the option to do it in chunks"
   ]
  },
  {
   "cell_type": "code",
   "execution_count": null,
   "id": "28a6030c",
   "metadata": {},
   "outputs": [],
   "source": [
    "video_path = './datasets/videos/dream_scene.mp4'\n",
    "output_path = './models/embeddings/processed_videos'\n",
    "get_video_embeddings(\n",
    "    video_path,\n",
    "    output_path,\n",
    "    partitions=4, \n",
    "    desired_fps=2\n",
    ")"
   ]
  }
 ],
 "metadata": {
  "kernelspec": {
   "display_name": "Python 3 (ipykernel)",
   "language": "python",
   "name": "python3"
  },
  "language_info": {
   "codemirror_mode": {
    "name": "ipython",
    "version": 3
   },
   "file_extension": ".py",
   "mimetype": "text/x-python",
   "name": "python",
   "nbconvert_exporter": "python",
   "pygments_lexer": "ipython3",
   "version": "3.7.10"
  },
  "vscode": {
   "interpreter": {
    "hash": "b0fa6594d8f4cbf19f97940f81e996739fb7646882a419484c72d19e05852a7e"
   }
  }
 },
 "nbformat": 4,
 "nbformat_minor": 5
}
