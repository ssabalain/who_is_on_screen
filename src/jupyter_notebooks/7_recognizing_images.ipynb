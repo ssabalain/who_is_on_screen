{
 "cells": [
  {
   "cell_type": "markdown",
   "id": "ef251d9e",
   "metadata": {},
   "source": [
    "## Recognizing images\n",
    "\n",
    "In this notebook we will go through the application of our recognizer into some images in order to get the recognition probabilities"
   ]
  },
  {
   "cell_type": "markdown",
   "id": "4ae87e36",
   "metadata": {},
   "source": [
    "### Importing libraries"
   ]
  },
  {
   "cell_type": "code",
   "execution_count": null,
   "id": "db54d772",
   "metadata": {},
   "outputs": [],
   "source": [
    "import sys\n",
    "import os\n",
    "sys.path.append('/opt/workspace/src/python_scripts/')\n",
    "from ops_face_recognition import predict_probabilities\n",
    "from ops_face_detection import get_embeddings_from_image, get_actors_embeddings\n",
    "script_name = os.path.basename(__name__)\n",
    "path_arr = os.getcwd().split(os.path.sep)\n",
    "os.chdir(os.path.sep.join(path_arr[:path_arr.index('src')+1]))"
   ]
  },
  {
   "cell_type": "markdown",
   "id": "5daaddee",
   "metadata": {},
   "source": [
    "### Getting probabilities for one image\n",
    "\n",
    "We can get the predicitions by using the `predict_probabilities` function"
   ]
  },
  {
   "cell_type": "code",
   "execution_count": null,
   "id": "81119716",
   "metadata": {},
   "outputs": [],
   "source": [
    "test_image_path = './datasets/actor_faces/2037_cillian_murphy/cillian_murphy_7.jpg'\n",
    "test_embeddings, test_metadata = get_embeddings_from_image(test_image_path, display = True)\n",
    "recognizer_folder = './models/recognizers'\n",
    "predictions = predict_probabilities(test_embeddings,recognizer_folder,array_format = True)\n",
    "predictions[0][0]"
   ]
  }
 ],
 "metadata": {
  "kernelspec": {
   "display_name": "Python 3 (ipykernel)",
   "language": "python",
   "name": "python3"
  },
  "language_info": {
   "codemirror_mode": {
    "name": "ipython",
    "version": 3
   },
   "file_extension": ".py",
   "mimetype": "text/x-python",
   "name": "python",
   "nbconvert_exporter": "python",
   "pygments_lexer": "ipython3",
   "version": "3.7.10"
  }
 },
 "nbformat": 4,
 "nbformat_minor": 5
}
