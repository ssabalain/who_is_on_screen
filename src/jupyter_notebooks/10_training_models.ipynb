{
 "cells": [
  {
   "cell_type": "markdown",
   "id": "d9ff7f35",
   "metadata": {},
   "source": [
    "## Training models\n",
    "\n",
    "In this notebook we will take a look at a whole training pipeline for our recognition models and will try to find the best parameters for it"
   ]
  },
  {
   "cell_type": "markdown",
   "id": "12b128aa",
   "metadata": {},
   "source": [
    "### Importing libraries"
   ]
  },
  {
   "cell_type": "code",
   "execution_count": null,
   "id": "f5e1d018",
   "metadata": {},
   "outputs": [],
   "source": [
    "import sys\n",
    "import os\n",
    "import json\n",
    "import pandas as pd\n",
    "import numpy as np\n",
    "!pip install pandasql\n",
    "from pandasql import sqldf\n",
    "sys.path.append('/opt/workspace/src/python_scripts/')\n",
    "from ops_face_recognition import get_pipeline_results, train_pipelines\n",
    "from ops_files_operations import read_pickle_file, read_json_file"
   ]
  },
  {
   "cell_type": "markdown",
   "id": "c8d996d2",
   "metadata": {},
   "source": [
    "### Training a single pipeline\n",
    "\n",
    "Given specific parameters, such as seed, test sample and SVM parameters, we can train a specific pipeline and get it results"
   ]
  },
  {
   "cell_type": "code",
   "execution_count": null,
   "id": "9c7a640e",
   "metadata": {},
   "outputs": [],
   "source": [
    "seed = 3195\n",
    "test_sample = 0.3\n",
    "faces_folder = './datasets/actor_faces'\n",
    "C=1.0\n",
    "#gamma=1\n",
    "#degree=2\n",
    "kernel='linear'\n",
    "pipeline_results = get_pipeline_results(\n",
    "    faces_folder=faces_folder,\n",
    "    seed=seed,\n",
    "    test_sample=test_sample,\n",
    "    kernel=kernel,\n",
    "    C=C#,\n",
    "    #gamma=gamma,\n",
    "    #degree=degree\n",
    ")\n",
    "print('Pipeline results: \\b')\n",
    "print(json.dumps(pipeline_results,indent=4))"
   ]
  },
  {
   "cell_type": "markdown",
   "id": "7ee313ba",
   "metadata": {},
   "source": [
    "### Iterating over multiple variables to find best models\n",
    "\n",
    "We can also stablish a range for the input parameters and try to find the one with the best results"
   ]
  },
  {
   "cell_type": "code",
   "execution_count": null,
   "id": "033e8530",
   "metadata": {},
   "outputs": [],
   "source": [
    "faces_folder = './datasets/actor_faces'\n",
    "pipelines_folder= './models/pipelines'\n",
    "test_sample = 0.3\n",
    "C_values = [1,10,100,1000]\n",
    "gammas = [0.1, 1, 10, 100]\n",
    "kernels = ['linear', 'rbf', 'poly']\n",
    "degrees = [2, 3, 4]\n",
    "iterations = 8\n",
    "\n",
    "pipelines_dict, pipelines_metadata = train_pipelines(\n",
    "    faces_folder=faces_folder,\n",
    "    test_sample=test_sample,\n",
    "    kernels=kernels,\n",
    "    C_values=C_values,\n",
    "    gammas=gammas,\n",
    "    degrees=degrees,\n",
    "    iterations=iterations,\n",
    "    save_to_pickle=True,\n",
    "    output_folder=pipelines_folder\n",
    ")"
   ]
  },
  {
   "cell_type": "markdown",
   "id": "8dbe3b5a",
   "metadata": {},
   "source": [
    "### Analyzing results\n",
    "\n",
    "Once we iterate over several hiperparameters, we analyze how the different configurations performed"
   ]
  },
  {
   "cell_type": "markdown",
   "id": "4ca87e78",
   "metadata": {},
   "source": [
    "#### Loading Pandas DataFrame"
   ]
  },
  {
   "cell_type": "code",
   "execution_count": null,
   "id": "de7b5e86",
   "metadata": {},
   "outputs": [],
   "source": [
    "pipelines_metadata_path = './models/pipelines/pipelines_metadata.json'\n",
    "pipelines_metadata = read_json_file(pipelines_metadata_path)\n",
    "pipelines_dict = read_pickle_file(pipelines_metadata[2]['pickle_path'])\n",
    "pipelines_df = pd.DataFrame(pipelines_dict)"
   ]
  },
  {
   "cell_type": "markdown",
   "id": "7a33fd2a",
   "metadata": {},
   "source": [
    "#### Count the different combinations of parameters available"
   ]
  },
  {
   "cell_type": "code",
   "execution_count": null,
   "id": "7bfd1eda",
   "metadata": {},
   "outputs": [],
   "source": [
    "pipelines_df['parameters_uuid'].nunique()"
   ]
  },
  {
   "cell_type": "markdown",
   "id": "ec53afab",
   "metadata": {},
   "source": [
    "#### Aggregating by parameters_uuid\n",
    "\n",
    "We get an average of the average accuracys for each paramters_uuid, and then we rank them. The nominal sum of both ranks will be the \"overall rank\", and those with the lowest overall rank will be the best performant models"
   ]
  },
  {
   "cell_type": "code",
   "execution_count": null,
   "id": "9e90338e",
   "metadata": {},
   "outputs": [],
   "source": [
    "aggregated_df = sqldf(\"\"\"\n",
    "    select \n",
    "        parameters_uuid, \n",
    "        kernel, \n",
    "        C, \n",
    "        gamma, \n",
    "        degree, \n",
    "        avg(accuracy) as avg_accuracy,\n",
    "        avg(accuracy_top3) as avg_accuracy_top3\n",
    "        \n",
    "    from pipelines_df \n",
    "    group by 1,2,3,4,5 \n",
    "    order by 2,3,4,5\n",
    "    \"\"\")"
   ]
  },
  {
   "cell_type": "code",
   "execution_count": null,
   "id": "2d23c260",
   "metadata": {},
   "outputs": [],
   "source": [
    "ranked_df = sqldf(\"\"\"\n",
    "    with ranked_df as (\n",
    "        select \n",
    "            *,\n",
    "            rank() over(order by avg_accuracy desc) as accuracy_rank,\n",
    "            rank() over(order by avg_accuracy_top3 desc) as accuracy_top3_rank\n",
    "\n",
    "        from aggregated_df\n",
    "        order by avg_accuracy desc\n",
    "    \n",
    "    )\n",
    "    \n",
    "    select\n",
    "        *,\n",
    "        accuracy_rank + accuracy_top3_rank as composed_rank\n",
    "    from ranked_df\n",
    "    order by composed_rank\n",
    "    limit 5\n",
    "    \n",
    "\n",
    "\"\"\")\n",
    "\n",
    "ranked_df"
   ]
  }
 ],
 "metadata": {
  "kernelspec": {
   "display_name": "Python 3 (ipykernel)",
   "language": "python",
   "name": "python3"
  },
  "language_info": {
   "codemirror_mode": {
    "name": "ipython",
    "version": 3
   },
   "file_extension": ".py",
   "mimetype": "text/x-python",
   "name": "python",
   "nbconvert_exporter": "python",
   "pygments_lexer": "ipython3",
   "version": "3.7.10"
  }
 },
 "nbformat": 4,
 "nbformat_minor": 5
}
