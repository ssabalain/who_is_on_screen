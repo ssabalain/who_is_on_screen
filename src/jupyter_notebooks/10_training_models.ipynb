{
 "cells": [
  {
   "cell_type": "markdown",
   "id": "7e36b6df",
   "metadata": {},
   "source": [
    "## Training models\n",
    "\n",
    "In this notebook we will take a look at a whole training pipeline for our recognition models and will try to find the best parameters for it"
   ]
  },
  {
   "cell_type": "markdown",
   "id": "8f2fe0f6",
   "metadata": {},
   "source": [
    "### Importing libraries"
   ]
  },
  {
   "cell_type": "code",
   "execution_count": 4,
   "id": "692024ac",
   "metadata": {},
   "outputs": [],
   "source": [
    "import sys\n",
    "import os\n",
    "import json\n",
    "import pandas as pd\n",
    "sys.path.append('/opt/workspace/src/python_scripts/')\n",
    "import ops_face_recognition as fr\n",
    "import ops_face_detection as fd\n",
    "from ops_logger import Logger"
   ]
  },
  {
   "cell_type": "markdown",
   "id": "22e06707",
   "metadata": {},
   "source": [
    "### Training a single pipeline\n",
    "\n",
    "Given specific parameters, such as seed, test sample and SVM parameters, we can train a specific pipeline and get it results"
   ]
  },
  {
   "cell_type": "code",
   "execution_count": null,
   "id": "8b7b497e",
   "metadata": {},
   "outputs": [],
   "source": [
    "seed = 3195\n",
    "test_sample = 0.3\n",
    "faces_folder = './datasets/actor_faces'\n",
    "C=1.0\n",
    "gamma=1\n",
    "degree=2\n",
    "kernel='poly'\n",
    "pipeline_results = fr.get_pipeline_results(\n",
    "    faces_folder=faces_folder,\n",
    "    seed=seed,\n",
    "    test_sample=test_sample,\n",
    "    kernel=kernel,\n",
    "    C=C,\n",
    "    gamma=gamma,\n",
    "    degree=degree\n",
    ")\n",
    "print('Pipeline results: \\b')\n",
    "print(json.dumps(pipeline_results,indent=4))"
   ]
  },
  {
   "cell_type": "markdown",
   "id": "f9e85b56",
   "metadata": {},
   "source": [
    "### Iterating over multiple variables to find best models\n",
    "\n",
    "We can also stablish a range for the input parameters and try to find the one with the best results"
   ]
  },
  {
   "cell_type": "code",
   "execution_count": null,
   "id": "daf100e2",
   "metadata": {},
   "outputs": [],
   "source": [
    "faces_folder = './datasets/actor_faces'\n",
    "pipelines_folder= './models/pipelines'\n",
    "test_sample = 0.3\n",
    "C_values = [1,10,100,1000]\n",
    "gammas = [0.1, 1, 10, 100]\n",
    "kernels = ['linear', 'rbf', 'poly']\n",
    "degrees = [2, 3, 4]\n",
    "iterations = 8\n",
    "\n",
    "log = Logger(script_name = 'autolog_' + os.path.basename(__name__),level='DEBUG')\n",
    "log.create_logger()\n",
    "logger = log.logger\n",
    "\n",
    "pipelines_dict, pipelines_metadata = fr.train_pipelines(\n",
    "    faces_folder=faces_folder,\n",
    "    test_sample=test_sample,\n",
    "    kernels=kernels,\n",
    "    C_values=C_values,\n",
    "    gammas=gammas,\n",
    "    degrees=degrees,\n",
    "    iterations=iterations,\n",
    "    save_to_pickle=True,\n",
    "    output_folder=pipelines_folder,\n",
    "    logger=logger\n",
    ")\n",
    "\n",
    "log.shutdown_logger()"
   ]
  }
 ],
 "metadata": {
  "kernelspec": {
   "display_name": "Python 3 (ipykernel)",
   "language": "python",
   "name": "python3"
  },
  "language_info": {
   "codemirror_mode": {
    "name": "ipython",
    "version": 3
   },
   "file_extension": ".py",
   "mimetype": "text/x-python",
   "name": "python",
   "nbconvert_exporter": "python",
   "pygments_lexer": "ipython3",
   "version": "3.7.10"
  }
 },
 "nbformat": 4,
 "nbformat_minor": 5
}
