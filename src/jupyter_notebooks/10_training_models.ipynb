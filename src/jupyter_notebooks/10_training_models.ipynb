{
 "cells": [
  {
   "cell_type": "markdown",
   "id": "456285b9",
   "metadata": {},
   "source": [
    "## Training models\n",
    "\n",
    "In this notebook we will take a look at a whole training pipeline for our recognition models and will try to find the best parameters for it"
   ]
  },
  {
   "cell_type": "markdown",
   "id": "13a5e192",
   "metadata": {},
   "source": [
    "### Importing libraries"
   ]
  },
  {
   "cell_type": "code",
   "execution_count": 6,
   "id": "f994c5b9",
   "metadata": {},
   "outputs": [],
   "source": [
    "import sys\n",
    "import os\n",
    "import json\n",
    "sys.path.append('/opt/workspace/src/python_scripts/')\n",
    "import ops_face_recognition as fr\n",
    "import ops_face_detection as fd\n",
    "from random import randrange"
   ]
  },
  {
   "cell_type": "markdown",
   "id": "a687650e",
   "metadata": {},
   "source": [
    "### Training a single pipeline\n",
    "\n",
    "Given specific parameters, such as seed, test sample and SVM parameters, we can train a specific pipeline and get it results"
   ]
  },
  {
   "cell_type": "code",
   "execution_count": null,
   "id": "88576932",
   "metadata": {},
   "outputs": [],
   "source": [
    "seed = 3195\n",
    "test_sample = 0.3\n",
    "faces_folder = './datasets/actor_faces'\n",
    "C=1.0\n",
    "kernel='linear'\n",
    "pipeline_results = fr.get_pipeline_results(faces_folder,seed,test_sample,C,kernel)\n",
    "print('Pipeline results: \\b')\n",
    "print(json.dumps(pipeline_results,indent=4))"
   ]
  },
  {
   "cell_type": "markdown",
   "id": "e3088367",
   "metadata": {},
   "source": [
    "### Iterating over multiple variables to find best models\n",
    "\n",
    "We can also stablish a range for the input parameters and try to find the one with the best results"
   ]
  },
  {
   "cell_type": "code",
   "execution_count": null,
   "id": "e7878dc2",
   "metadata": {},
   "outputs": [],
   "source": [
    "faces_folder = './datasets/actor_faces'\n",
    "test_sample = 0.3\n",
    "C_values = [1.0,10,100.1000]\n",
    "kernels = ['linear']#, 'rbf', 'poly']\n",
    "#degrees = [0, 1, 2, 3, 4, 5, 6]\n",
    "iterations = 5\n",
    "\n",
    "pipelines = []\n",
    "for kernel in kernels:\n",
    "    for C in C_values:\n",
    "        for iteration in range(iterations):\n",
    "            seed = randrange(10000)\n",
    "            pipeline_results = fr.get_pipeline_results(faces_folder,seed,test_sample,C,kernel)\n",
    "            pipelines.append(pipeline_results)\n",
    "\n",
    "\n",
    "\n"
   ]
  },
  {
   "cell_type": "code",
   "execution_count": null,
   "id": "9fbf8ac1",
   "metadata": {},
   "outputs": [],
   "source": [
    "for pipeline in pipelines:\n",
    "    print(pipeline[\"C\"],pipeline[\"seed\"],pipeline[\"avg_accuracy\"])"
   ]
  },
  {
   "cell_type": "code",
   "execution_count": null,
   "id": "a611493d",
   "metadata": {},
   "outputs": [],
   "source": [
    "from random import randrange"
   ]
  }
 ],
 "metadata": {
  "kernelspec": {
   "display_name": "Python 3 (ipykernel)",
   "language": "python",
   "name": "python3"
  },
  "language_info": {
   "codemirror_mode": {
    "name": "ipython",
    "version": 3
   },
   "file_extension": ".py",
   "mimetype": "text/x-python",
   "name": "python",
   "nbconvert_exporter": "python",
   "pygments_lexer": "ipython3",
   "version": "3.7.10"
  }
 },
 "nbformat": 4,
 "nbformat_minor": 5
}
