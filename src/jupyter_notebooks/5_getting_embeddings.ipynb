{
 "cells": [
  {
   "cell_type": "markdown",
   "id": "8a95490d",
   "metadata": {},
   "source": [
    "## Creating embeddings for images\n",
    "\n",
    "In this notebook we will go through the different functions used to get the embeddings of different images."
   ]
  },
  {
   "cell_type": "markdown",
   "id": "d231637e",
   "metadata": {},
   "source": [
    "### Importing libraries"
   ]
  },
  {
   "cell_type": "code",
   "execution_count": null,
   "id": "0ee49813",
   "metadata": {},
   "outputs": [],
   "source": [
    "import sys\n",
    "import os\n",
    "sys.path.append('/opt/workspace/src/python_scripts/')\n",
    "from ops_face_detection import get_embeddings_from_image, get_actors_embeddings\n",
    "script_name = os.path.basename(__name__)\n",
    "path_arr = os.getcwd().split(os.path.sep)\n",
    "os.chdir(os.path.sep.join(path_arr[:path_arr.index('src')+1]))"
   ]
  },
  {
   "cell_type": "markdown",
   "id": "109e6d47",
   "metadata": {},
   "source": [
    "### Getting embeddings for one image\n",
    "\n",
    "We can easily get the embeddings for an image by providing the path to function `get_embeddings_from_image`"
   ]
  },
  {
   "cell_type": "code",
   "execution_count": null,
   "id": "efac75fd",
   "metadata": {},
   "outputs": [],
   "source": [
    "image_path = './datasets/actor_faces/2037_cillian_murphy/cillian_murphy_1.jpg'\n",
    "image_embeddings, image_embeddings_metadata = get_embeddings_from_image(img_path = image_path, display = True)\n",
    "print(len(image_embeddings))\n",
    "print(image_embeddings_metadata)"
   ]
  },
  {
   "cell_type": "markdown",
   "id": "bb2768d8",
   "metadata": {},
   "source": [
    "### Getting embeddings for a whole dataset of actors\n",
    "\n",
    "We can also provide a specific dataset folder and then scan all the images contained, with it respective metadata"
   ]
  },
  {
   "cell_type": "code",
   "execution_count": null,
   "id": "064fa2d6",
   "metadata": {},
   "outputs": [],
   "source": [
    "dataset_folder = './datasets/actor_faces'\n",
    "actor_embeddings, actor_embeddings_metadata = get_actors_embeddings(dataset_folder)\n",
    "print(actor_embeddings.keys())\n",
    "print(actor_embeddings_metadata.keys())\n",
    "print(actor_embeddings_metadata[\"actors\"][0].keys())"
   ]
  },
  {
   "cell_type": "markdown",
   "id": "b60aa9ab",
   "metadata": {},
   "source": [
    "### Creating an embeddings model\n",
    "\n",
    "We can save create different embeddings models using different datasets of different number of images. This function will allow us to have a clear track of\n",
    "every model by storing this information in an index"
   ]
  },
  {
   "cell_type": "code",
   "execution_count": null,
   "id": "a92f60c0",
   "metadata": {},
   "outputs": [],
   "source": [
    "dataset_folder = './datasets/actor_faces'\n",
    "models_folder = './models/embeddings/actor_faces'\n",
    "actor_embeddings, actor_embeddings_metadata = get_actors_embeddings(dataset_folder,save_to_pickle=True,output_folder=models_folder)"
   ]
  }
 ],
 "metadata": {
  "kernelspec": {
   "display_name": "Python 3 (ipykernel)",
   "language": "python",
   "name": "python3"
  },
  "language_info": {
   "codemirror_mode": {
    "name": "ipython",
    "version": 3
   },
   "file_extension": ".py",
   "mimetype": "text/x-python",
   "name": "python",
   "nbconvert_exporter": "python",
   "pygments_lexer": "ipython3",
   "version": "3.7.10"
  }
 },
 "nbformat": 4,
 "nbformat_minor": 5
}
