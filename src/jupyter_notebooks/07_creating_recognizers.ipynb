{
 "cells": [
  {
   "cell_type": "markdown",
   "id": "0bb51c00",
   "metadata": {},
   "source": [
    "## Creating recognizers models\n",
    "\n",
    "Once we have an embedding model for a specific dataset, we can create recognizers around them"
   ]
  },
  {
   "cell_type": "markdown",
   "id": "230d0d6c",
   "metadata": {},
   "source": [
    "### Importing libraries"
   ]
  },
  {
   "cell_type": "code",
   "execution_count": 1,
   "id": "76fec062",
   "metadata": {},
   "outputs": [
    {
     "name": "stdout",
     "output_type": "stream",
     "text": [
      "Installing packages...\n",
      "Packages installed.\n",
      "Installing packages...\n",
      "Packages installed.\n"
     ]
    }
   ],
   "source": [
    "import sys\n",
    "import os\n",
    "import json\n",
    "sys.path.append('/opt/workspace/src/python_scripts/')\n",
    "from ops_face_recognition import train_recognizer\n",
    "path_arr = os.getcwd().split(os.path.sep)\n",
    "os.chdir(os.path.sep.join(path_arr[:path_arr.index('src')+1]))"
   ]
  },
  {
   "cell_type": "markdown",
   "id": "79ab8e9f",
   "metadata": {},
   "source": [
    "### Training recognizer\n",
    "With function `train_recognizer` we can get a dictionary with a trained SVC for a specific model"
   ]
  },
  {
   "cell_type": "code",
   "execution_count": null,
   "id": "128f39b6",
   "metadata": {},
   "outputs": [],
   "source": [
    "embeddings_folder = './models/embeddings/actor_faces'\n",
    "recognizer_dict, recognizer_metadata = train_recognizer(\n",
    "    embeddings_folder=embeddings_folder,\n",
    "    model_id = None, #Grabs the latest model available\n",
    "    C=1.0,\n",
    "    kernel='linear',\n",
    "    probability=True\n",
    ")\n",
    "\n",
    "print(f'Recognizer dictionary keys: \\n')\n",
    "print(recognizer_dict.keys())\n",
    "print(f'\\n Recognizer metadata: \\n')\n",
    "print(json.dumps(recognizer_metadata,indent=4))"
   ]
  },
  {
   "cell_type": "markdown",
   "id": "01bf67bb",
   "metadata": {},
   "source": [
    "### Creating recognizer model\n",
    "\n",
    "We can also add a trained recognizer into our recognizer folder. This will also add this information into the embeddings models metadata."
   ]
  },
  {
   "cell_type": "code",
   "execution_count": 5,
   "id": "7419625c",
   "metadata": {},
   "outputs": [],
   "source": [
    "actor_faces_folder = './models/embeddings/actor_faces'\n",
    "recognizer_path = './models/recognizers'\n",
    "recognizer_dict, recognizer_metadata = train_recognizer(\n",
    "    embeddings_folder= actor_faces_folder,\n",
    "    kernel='rbf',\n",
    "    C=10,\n",
    "    gamma=0.1,\n",
    "    probability=True,\n",
    "    save_to_pickle=True,\n",
    "    output_folder=recognizer_path\n",
    ")"
   ]
  }
 ],
 "metadata": {
  "kernelspec": {
   "display_name": "Python 3 (ipykernel)",
   "language": "python",
   "name": "python3"
  },
  "language_info": {
   "codemirror_mode": {
    "name": "ipython",
    "version": 3
   },
   "file_extension": ".py",
   "mimetype": "text/x-python",
   "name": "python",
   "nbconvert_exporter": "python",
   "pygments_lexer": "ipython3",
   "version": "3.7.10"
  }
 },
 "nbformat": 4,
 "nbformat_minor": 5
}
