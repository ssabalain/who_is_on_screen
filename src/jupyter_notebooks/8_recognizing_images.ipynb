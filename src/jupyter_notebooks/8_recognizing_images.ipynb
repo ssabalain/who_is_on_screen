{
 "cells": [
  {
   "cell_type": "markdown",
   "id": "159c0a1e",
   "metadata": {},
   "source": [
    "## Recognizing images\n",
    "\n",
    "In this notebook we will go through the application of our recognizer into some images in order to get the recognition probabilities"
   ]
  },
  {
   "cell_type": "markdown",
   "id": "6c5e1bb4",
   "metadata": {},
   "source": [
    "### Importing libraries"
   ]
  },
  {
   "cell_type": "code",
   "execution_count": null,
   "id": "b0aa3804",
   "metadata": {},
   "outputs": [],
   "source": [
    "import sys\n",
    "import os\n",
    "sys.path.append('/opt/workspace/src/python_scripts/')\n",
    "from ops_face_recognition import predict_probabilities, train_recognizer\n",
    "from ops_face_detection import get_embeddings_from_image, get_actors_embeddings\n",
    "path_arr = os.getcwd().split(os.path.sep)\n",
    "os.chdir(os.path.sep.join(path_arr[:path_arr.index('src')+1]))"
   ]
  },
  {
   "cell_type": "markdown",
   "id": "5146d08f",
   "metadata": {},
   "source": [
    "### Getting probabilities for one image\n",
    "\n",
    "We can get the predicitions by using the `predict_probabilities` function, and passing a specific recognizer"
   ]
  },
  {
   "cell_type": "code",
   "execution_count": null,
   "id": "e45aa18a",
   "metadata": {},
   "outputs": [],
   "source": [
    "test_image_path = './datasets/actor_faces/2037_cillian_murphy/cillian_murphy_9.jpg'\n",
    "test_embeddings, test_metadata = get_embeddings_from_image(\n",
    "    test_image_path, \n",
    "    display = True\n",
    ")\n",
    "\n",
    "embeddings_folder = './models/embeddings/actor_faces'\n",
    "recognizer_dict, recognizer_metadata = train_recognizer(\n",
    "    embeddings_folder,\n",
    "    model_id = None, #Grabs the latest model available\n",
    "    C=1.0,kernel='linear',\n",
    "    probability=True\n",
    ")\n",
    "\n",
    "predictions = predict_probabilities(\n",
    "    target_embeddings = test_embeddings,\n",
    "    recognizer = recognizer_dict,\n",
    "    recognizer_metadata = recognizer_metadata,\n",
    "    array_format = True #This will return a numpy array, otherwise a python dict\n",
    ")\n",
    "\n",
    "print(f'The model predicts that the photo is from {str(predictions[0][0][0])}, with a {float(predictions[0][0][1])*100}% probability. \\n')\n",
    "print(f'The total predictions obtained by the model are:\\n')\n",
    "print(predictions[0])"
   ]
  },
  {
   "cell_type": "markdown",
   "id": "831ff65f",
   "metadata": {},
   "source": [
    "Or we can also pass a recognizer folder to use an already created recognizer"
   ]
  },
  {
   "cell_type": "code",
   "execution_count": null,
   "id": "ff63dfba",
   "metadata": {},
   "outputs": [],
   "source": [
    "test_image_path = './datasets/actor_faces/2037_cillian_murphy/cillian_murphy_9.jpg'\n",
    "test_embeddings, test_metadata = get_embeddings_from_image(\n",
    "    test_image_path, \n",
    "    display = True\n",
    ")\n",
    "\n",
    "recognizer_folder = './models/recognizers'\n",
    "predictions = predict_probabilities(\n",
    "    target_embeddings = test_embeddings,\n",
    "    recognizer_folder = recognizer_folder,\n",
    "    model_id = None, #Grab the latest one\n",
    "    array_format = True #This will return a numpy array, otherwise a python dict\n",
    ")\n",
    "\n",
    "print(f'The model predicts that the photo is from {str(predictions[0][0][0])}, with a {float(predictions[0][0][1])*100}% probability. \\n')\n",
    "print(f'The total predictions obtained by the model are:\\n')\n",
    "print(predictions[0])"
   ]
  }
 ],
 "metadata": {
  "kernelspec": {
   "display_name": "Python 3 (ipykernel)",
   "language": "python",
   "name": "python3"
  },
  "language_info": {
   "codemirror_mode": {
    "name": "ipython",
    "version": 3
   },
   "file_extension": ".py",
   "mimetype": "text/x-python",
   "name": "python",
   "nbconvert_exporter": "python",
   "pygments_lexer": "ipython3",
   "version": "3.7.10"
  }
 },
 "nbformat": 4,
 "nbformat_minor": 5
}
